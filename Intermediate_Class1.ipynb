{
  "nbformat": 4,
  "nbformat_minor": 0,
  "metadata": {
    "colab": {
      "provenance": [],
      "authorship_tag": "ABX9TyMxUoxYmKvlwOWvYFLa+pgI",
      "include_colab_link": true
    },
    "kernelspec": {
      "name": "python3",
      "display_name": "Python 3"
    },
    "language_info": {
      "name": "python"
    }
  },
  "cells": [
    {
      "cell_type": "markdown",
      "metadata": {
        "id": "view-in-github",
        "colab_type": "text"
      },
      "source": [
        "<a href=\"https://colab.research.google.com/github/a-nagar/vistra-intermediate-fall-2024/blob/main/Intermediate_Class1.ipynb\" target=\"_parent\"><img src=\"https://colab.research.google.com/assets/colab-badge.svg\" alt=\"Open In Colab\"/></a>"
      ]
    },
    {
      "cell_type": "markdown",
      "source": [
        "# Welcome to the Intermediate Data Science Class\n",
        "\n",
        "This class will build on the concepts introduced in the introduction to data science class. In this class, we will review the most important concepts and from next class, we will focus on building preditive models and feature analysis."
      ],
      "metadata": {
        "id": "XKNA4BrQg3SH"
      }
    },
    {
      "cell_type": "markdown",
      "source": [
        "## Data Science Concepts\n",
        "\n",
        "Need to remember the following from introductory course:\n",
        "\n",
        "- Basic Python Syntax\n",
        "- Numpy\n",
        "- Pandas\n",
        "- Visualization using Matplotlib and Seaborn\n",
        "\n"
      ],
      "metadata": {
        "id": "GEdfoAZsYzqz"
      }
    },
    {
      "cell_type": "markdown",
      "source": [
        "## Numpy\n",
        "\n",
        "Remember the basic unit of processing is **array**, which can be multi-dimensional.\n",
        "\n"
      ],
      "metadata": {
        "id": "HLNfwRWOceQp"
      }
    },
    {
      "cell_type": "code",
      "source": [
        "import numpy as np\n",
        "\n",
        "b = np.array([1, 2, 3, 4, 5])\n",
        "c = np.array([[1, 2, 3], [4, 5, 6]])\n",
        "d = np.array([[[1, 2, 3], [4, 5, 6]], [[1, 2, 3], [4, 5, 6]]])"
      ],
      "metadata": {
        "id": "gWcphkCp49-8"
      },
      "execution_count": null,
      "outputs": []
    },
    {
      "cell_type": "code",
      "source": [
        "# accessing array elements\n",
        "arr = np.array([[1,2,3,4,5], [6,7,8,9,10]])\n",
        "\n",
        "print('2nd element on 1st row: ', arr[0, 1])"
      ],
      "metadata": {
        "colab": {
          "base_uri": "https://localhost:8080/"
        },
        "id": "j8FO35bOYxgn",
        "outputId": "3f03a307-8c6f-4d92-bd12-c87a69e4e173"
      },
      "execution_count": null,
      "outputs": [
        {
          "output_type": "stream",
          "name": "stdout",
          "text": [
            "2nd element on 1st row:  2\n"
          ]
        }
      ]
    },
    {
      "cell_type": "code",
      "source": [
        "# array construction by reshape\n",
        "arr = np.arange(0, 10).reshape(2, 5)\n",
        "print(arr)"
      ],
      "metadata": {
        "colab": {
          "base_uri": "https://localhost:8080/"
        },
        "id": "D0dH8NR97spD",
        "outputId": "e03fb715-8d30-43d6-e1c3-ce4131bad90a"
      },
      "execution_count": null,
      "outputs": [
        {
          "output_type": "stream",
          "name": "stdout",
          "text": [
            "[[0 1 2 3 4]\n",
            " [5 6 7 8 9]]\n"
          ]
        }
      ]
    },
    {
      "cell_type": "code",
      "source": [
        "# Matrix multiplication\n",
        "a = np.array([[1, 0], [0, 1]])\n",
        "b = np.array([[4, 1], [2, 2]])\n",
        "\n",
        "np.dot(a, b)"
      ],
      "metadata": {
        "colab": {
          "base_uri": "https://localhost:8080/"
        },
        "id": "wwgRdPB4RVCI",
        "outputId": "891183ca-9022-482b-ba4c-e3034c3daad9"
      },
      "execution_count": null,
      "outputs": [
        {
          "output_type": "execute_result",
          "data": {
            "text/plain": [
              "array([[4, 1],\n",
              "       [2, 2]])"
            ]
          },
          "metadata": {},
          "execution_count": 4
        }
      ]
    },
    {
      "cell_type": "code",
      "source": [
        "# Elementwise multiplication\n",
        "np.multiply(a, b)"
      ],
      "metadata": {
        "colab": {
          "base_uri": "https://localhost:8080/"
        },
        "id": "xPELUOsAS8bX",
        "outputId": "eff81aeb-1a2e-49b3-cf35-0153e54c248b"
      },
      "execution_count": null,
      "outputs": [
        {
          "output_type": "execute_result",
          "data": {
            "text/plain": [
              "array([[4, 0],\n",
              "       [0, 2]])"
            ]
          },
          "metadata": {},
          "execution_count": 5
        }
      ]
    },
    {
      "cell_type": "code",
      "source": [
        "a * b  # this is same thing as element-wise multiplication"
      ],
      "metadata": {
        "colab": {
          "base_uri": "https://localhost:8080/"
        },
        "id": "Qw_52gkcmiau",
        "outputId": "30f100b9-b9af-4049-e129-00f28a8a51c8"
      },
      "execution_count": null,
      "outputs": [
        {
          "output_type": "execute_result",
          "data": {
            "text/plain": [
              "array([[4, 0],\n",
              "       [0, 2]])"
            ]
          },
          "metadata": {},
          "execution_count": 6
        }
      ]
    },
    {
      "cell_type": "markdown",
      "source": [
        "## Pandas\n",
        "\n"
      ],
      "metadata": {
        "id": "A0RJzeHBpOUt"
      }
    },
    {
      "cell_type": "code",
      "source": [
        "import pandas as pd\n",
        "titanic = pd.read_csv(\"https://raw.githubusercontent.com/jorisvandenbossche/pandas-tutorial/master/data/titanic.csv\")\n",
        "titanic"
      ],
      "metadata": {
        "colab": {
          "base_uri": "https://localhost:8080/",
          "height": 468
        },
        "id": "xfFeyOTIhzUX",
        "outputId": "0c9c9ae8-ed6b-4f13-ef85-256496cdaca6"
      },
      "execution_count": null,
      "outputs": [
        {
          "output_type": "execute_result",
          "data": {
            "text/plain": [
              "     PassengerId  Survived  Pclass  \\\n",
              "0              1         0       3   \n",
              "1              2         1       1   \n",
              "2              3         1       3   \n",
              "3              4         1       1   \n",
              "4              5         0       3   \n",
              "..           ...       ...     ...   \n",
              "886          887         0       2   \n",
              "887          888         1       1   \n",
              "888          889         0       3   \n",
              "889          890         1       1   \n",
              "890          891         0       3   \n",
              "\n",
              "                                                  Name     Sex   Age  SibSp  \\\n",
              "0                              Braund, Mr. Owen Harris    male  22.0      1   \n",
              "1    Cumings, Mrs. John Bradley (Florence Briggs Th...  female  38.0      1   \n",
              "2                               Heikkinen, Miss. Laina  female  26.0      0   \n",
              "3         Futrelle, Mrs. Jacques Heath (Lily May Peel)  female  35.0      1   \n",
              "4                             Allen, Mr. William Henry    male  35.0      0   \n",
              "..                                                 ...     ...   ...    ...   \n",
              "886                              Montvila, Rev. Juozas    male  27.0      0   \n",
              "887                       Graham, Miss. Margaret Edith  female  19.0      0   \n",
              "888           Johnston, Miss. Catherine Helen \"Carrie\"  female   NaN      1   \n",
              "889                              Behr, Mr. Karl Howell    male  26.0      0   \n",
              "890                                Dooley, Mr. Patrick    male  32.0      0   \n",
              "\n",
              "     Parch            Ticket     Fare Cabin Embarked  \n",
              "0        0         A/5 21171   7.2500   NaN        S  \n",
              "1        0          PC 17599  71.2833   C85        C  \n",
              "2        0  STON/O2. 3101282   7.9250   NaN        S  \n",
              "3        0            113803  53.1000  C123        S  \n",
              "4        0            373450   8.0500   NaN        S  \n",
              "..     ...               ...      ...   ...      ...  \n",
              "886      0            211536  13.0000   NaN        S  \n",
              "887      0            112053  30.0000   B42        S  \n",
              "888      2        W./C. 6607  23.4500   NaN        S  \n",
              "889      0            111369  30.0000  C148        C  \n",
              "890      0            370376   7.7500   NaN        Q  \n",
              "\n",
              "[891 rows x 12 columns]"
            ],
            "text/html": [
              "\n",
              "  <div id=\"df-a9d0c36c-1078-4a1e-91cf-a2322fc78710\">\n",
              "    <div class=\"colab-df-container\">\n",
              "      <div>\n",
              "<style scoped>\n",
              "    .dataframe tbody tr th:only-of-type {\n",
              "        vertical-align: middle;\n",
              "    }\n",
              "\n",
              "    .dataframe tbody tr th {\n",
              "        vertical-align: top;\n",
              "    }\n",
              "\n",
              "    .dataframe thead th {\n",
              "        text-align: right;\n",
              "    }\n",
              "</style>\n",
              "<table border=\"1\" class=\"dataframe\">\n",
              "  <thead>\n",
              "    <tr style=\"text-align: right;\">\n",
              "      <th></th>\n",
              "      <th>PassengerId</th>\n",
              "      <th>Survived</th>\n",
              "      <th>Pclass</th>\n",
              "      <th>Name</th>\n",
              "      <th>Sex</th>\n",
              "      <th>Age</th>\n",
              "      <th>SibSp</th>\n",
              "      <th>Parch</th>\n",
              "      <th>Ticket</th>\n",
              "      <th>Fare</th>\n",
              "      <th>Cabin</th>\n",
              "      <th>Embarked</th>\n",
              "    </tr>\n",
              "  </thead>\n",
              "  <tbody>\n",
              "    <tr>\n",
              "      <th>0</th>\n",
              "      <td>1</td>\n",
              "      <td>0</td>\n",
              "      <td>3</td>\n",
              "      <td>Braund, Mr. Owen Harris</td>\n",
              "      <td>male</td>\n",
              "      <td>22.0</td>\n",
              "      <td>1</td>\n",
              "      <td>0</td>\n",
              "      <td>A/5 21171</td>\n",
              "      <td>7.2500</td>\n",
              "      <td>NaN</td>\n",
              "      <td>S</td>\n",
              "    </tr>\n",
              "    <tr>\n",
              "      <th>1</th>\n",
              "      <td>2</td>\n",
              "      <td>1</td>\n",
              "      <td>1</td>\n",
              "      <td>Cumings, Mrs. John Bradley (Florence Briggs Th...</td>\n",
              "      <td>female</td>\n",
              "      <td>38.0</td>\n",
              "      <td>1</td>\n",
              "      <td>0</td>\n",
              "      <td>PC 17599</td>\n",
              "      <td>71.2833</td>\n",
              "      <td>C85</td>\n",
              "      <td>C</td>\n",
              "    </tr>\n",
              "    <tr>\n",
              "      <th>2</th>\n",
              "      <td>3</td>\n",
              "      <td>1</td>\n",
              "      <td>3</td>\n",
              "      <td>Heikkinen, Miss. Laina</td>\n",
              "      <td>female</td>\n",
              "      <td>26.0</td>\n",
              "      <td>0</td>\n",
              "      <td>0</td>\n",
              "      <td>STON/O2. 3101282</td>\n",
              "      <td>7.9250</td>\n",
              "      <td>NaN</td>\n",
              "      <td>S</td>\n",
              "    </tr>\n",
              "    <tr>\n",
              "      <th>3</th>\n",
              "      <td>4</td>\n",
              "      <td>1</td>\n",
              "      <td>1</td>\n",
              "      <td>Futrelle, Mrs. Jacques Heath (Lily May Peel)</td>\n",
              "      <td>female</td>\n",
              "      <td>35.0</td>\n",
              "      <td>1</td>\n",
              "      <td>0</td>\n",
              "      <td>113803</td>\n",
              "      <td>53.1000</td>\n",
              "      <td>C123</td>\n",
              "      <td>S</td>\n",
              "    </tr>\n",
              "    <tr>\n",
              "      <th>4</th>\n",
              "      <td>5</td>\n",
              "      <td>0</td>\n",
              "      <td>3</td>\n",
              "      <td>Allen, Mr. William Henry</td>\n",
              "      <td>male</td>\n",
              "      <td>35.0</td>\n",
              "      <td>0</td>\n",
              "      <td>0</td>\n",
              "      <td>373450</td>\n",
              "      <td>8.0500</td>\n",
              "      <td>NaN</td>\n",
              "      <td>S</td>\n",
              "    </tr>\n",
              "    <tr>\n",
              "      <th>...</th>\n",
              "      <td>...</td>\n",
              "      <td>...</td>\n",
              "      <td>...</td>\n",
              "      <td>...</td>\n",
              "      <td>...</td>\n",
              "      <td>...</td>\n",
              "      <td>...</td>\n",
              "      <td>...</td>\n",
              "      <td>...</td>\n",
              "      <td>...</td>\n",
              "      <td>...</td>\n",
              "      <td>...</td>\n",
              "    </tr>\n",
              "    <tr>\n",
              "      <th>886</th>\n",
              "      <td>887</td>\n",
              "      <td>0</td>\n",
              "      <td>2</td>\n",
              "      <td>Montvila, Rev. Juozas</td>\n",
              "      <td>male</td>\n",
              "      <td>27.0</td>\n",
              "      <td>0</td>\n",
              "      <td>0</td>\n",
              "      <td>211536</td>\n",
              "      <td>13.0000</td>\n",
              "      <td>NaN</td>\n",
              "      <td>S</td>\n",
              "    </tr>\n",
              "    <tr>\n",
              "      <th>887</th>\n",
              "      <td>888</td>\n",
              "      <td>1</td>\n",
              "      <td>1</td>\n",
              "      <td>Graham, Miss. Margaret Edith</td>\n",
              "      <td>female</td>\n",
              "      <td>19.0</td>\n",
              "      <td>0</td>\n",
              "      <td>0</td>\n",
              "      <td>112053</td>\n",
              "      <td>30.0000</td>\n",
              "      <td>B42</td>\n",
              "      <td>S</td>\n",
              "    </tr>\n",
              "    <tr>\n",
              "      <th>888</th>\n",
              "      <td>889</td>\n",
              "      <td>0</td>\n",
              "      <td>3</td>\n",
              "      <td>Johnston, Miss. Catherine Helen \"Carrie\"</td>\n",
              "      <td>female</td>\n",
              "      <td>NaN</td>\n",
              "      <td>1</td>\n",
              "      <td>2</td>\n",
              "      <td>W./C. 6607</td>\n",
              "      <td>23.4500</td>\n",
              "      <td>NaN</td>\n",
              "      <td>S</td>\n",
              "    </tr>\n",
              "    <tr>\n",
              "      <th>889</th>\n",
              "      <td>890</td>\n",
              "      <td>1</td>\n",
              "      <td>1</td>\n",
              "      <td>Behr, Mr. Karl Howell</td>\n",
              "      <td>male</td>\n",
              "      <td>26.0</td>\n",
              "      <td>0</td>\n",
              "      <td>0</td>\n",
              "      <td>111369</td>\n",
              "      <td>30.0000</td>\n",
              "      <td>C148</td>\n",
              "      <td>C</td>\n",
              "    </tr>\n",
              "    <tr>\n",
              "      <th>890</th>\n",
              "      <td>891</td>\n",
              "      <td>0</td>\n",
              "      <td>3</td>\n",
              "      <td>Dooley, Mr. Patrick</td>\n",
              "      <td>male</td>\n",
              "      <td>32.0</td>\n",
              "      <td>0</td>\n",
              "      <td>0</td>\n",
              "      <td>370376</td>\n",
              "      <td>7.7500</td>\n",
              "      <td>NaN</td>\n",
              "      <td>Q</td>\n",
              "    </tr>\n",
              "  </tbody>\n",
              "</table>\n",
              "<p>891 rows × 12 columns</p>\n",
              "</div>\n",
              "      <button class=\"colab-df-convert\" onclick=\"convertToInteractive('df-a9d0c36c-1078-4a1e-91cf-a2322fc78710')\"\n",
              "              title=\"Convert this dataframe to an interactive table.\"\n",
              "              style=\"display:none;\">\n",
              "        \n",
              "  <svg xmlns=\"http://www.w3.org/2000/svg\" height=\"24px\"viewBox=\"0 0 24 24\"\n",
              "       width=\"24px\">\n",
              "    <path d=\"M0 0h24v24H0V0z\" fill=\"none\"/>\n",
              "    <path d=\"M18.56 5.44l.94 2.06.94-2.06 2.06-.94-2.06-.94-.94-2.06-.94 2.06-2.06.94zm-11 1L8.5 8.5l.94-2.06 2.06-.94-2.06-.94L8.5 2.5l-.94 2.06-2.06.94zm10 10l.94 2.06.94-2.06 2.06-.94-2.06-.94-.94-2.06-.94 2.06-2.06.94z\"/><path d=\"M17.41 7.96l-1.37-1.37c-.4-.4-.92-.59-1.43-.59-.52 0-1.04.2-1.43.59L10.3 9.45l-7.72 7.72c-.78.78-.78 2.05 0 2.83L4 21.41c.39.39.9.59 1.41.59.51 0 1.02-.2 1.41-.59l7.78-7.78 2.81-2.81c.8-.78.8-2.07 0-2.86zM5.41 20L4 18.59l7.72-7.72 1.47 1.35L5.41 20z\"/>\n",
              "  </svg>\n",
              "      </button>\n",
              "      \n",
              "  <style>\n",
              "    .colab-df-container {\n",
              "      display:flex;\n",
              "      flex-wrap:wrap;\n",
              "      gap: 12px;\n",
              "    }\n",
              "\n",
              "    .colab-df-convert {\n",
              "      background-color: #E8F0FE;\n",
              "      border: none;\n",
              "      border-radius: 50%;\n",
              "      cursor: pointer;\n",
              "      display: none;\n",
              "      fill: #1967D2;\n",
              "      height: 32px;\n",
              "      padding: 0 0 0 0;\n",
              "      width: 32px;\n",
              "    }\n",
              "\n",
              "    .colab-df-convert:hover {\n",
              "      background-color: #E2EBFA;\n",
              "      box-shadow: 0px 1px 2px rgba(60, 64, 67, 0.3), 0px 1px 3px 1px rgba(60, 64, 67, 0.15);\n",
              "      fill: #174EA6;\n",
              "    }\n",
              "\n",
              "    [theme=dark] .colab-df-convert {\n",
              "      background-color: #3B4455;\n",
              "      fill: #D2E3FC;\n",
              "    }\n",
              "\n",
              "    [theme=dark] .colab-df-convert:hover {\n",
              "      background-color: #434B5C;\n",
              "      box-shadow: 0px 1px 3px 1px rgba(0, 0, 0, 0.15);\n",
              "      filter: drop-shadow(0px 1px 2px rgba(0, 0, 0, 0.3));\n",
              "      fill: #FFFFFF;\n",
              "    }\n",
              "  </style>\n",
              "\n",
              "      <script>\n",
              "        const buttonEl =\n",
              "          document.querySelector('#df-a9d0c36c-1078-4a1e-91cf-a2322fc78710 button.colab-df-convert');\n",
              "        buttonEl.style.display =\n",
              "          google.colab.kernel.accessAllowed ? 'block' : 'none';\n",
              "\n",
              "        async function convertToInteractive(key) {\n",
              "          const element = document.querySelector('#df-a9d0c36c-1078-4a1e-91cf-a2322fc78710');\n",
              "          const dataTable =\n",
              "            await google.colab.kernel.invokeFunction('convertToInteractive',\n",
              "                                                     [key], {});\n",
              "          if (!dataTable) return;\n",
              "\n",
              "          const docLinkHtml = 'Like what you see? Visit the ' +\n",
              "            '<a target=\"_blank\" href=https://colab.research.google.com/notebooks/data_table.ipynb>data table notebook</a>'\n",
              "            + ' to learn more about interactive tables.';\n",
              "          element.innerHTML = '';\n",
              "          dataTable['output_type'] = 'display_data';\n",
              "          await google.colab.output.renderOutput(dataTable, element);\n",
              "          const docLink = document.createElement('div');\n",
              "          docLink.innerHTML = docLinkHtml;\n",
              "          element.appendChild(docLink);\n",
              "        }\n",
              "      </script>\n",
              "    </div>\n",
              "  </div>\n",
              "  "
            ]
          },
          "metadata": {},
          "execution_count": 7
        }
      ]
    },
    {
      "cell_type": "code",
      "source": [
        "titanic.dtypes"
      ],
      "metadata": {
        "colab": {
          "base_uri": "https://localhost:8080/"
        },
        "id": "Gb7Yd0j5iIMx",
        "outputId": "3628e107-6ad1-4f1c-87ef-3fca581a8d6f"
      },
      "execution_count": null,
      "outputs": [
        {
          "output_type": "execute_result",
          "data": {
            "text/plain": [
              "PassengerId      int64\n",
              "Survived         int64\n",
              "Pclass           int64\n",
              "Name            object\n",
              "Sex             object\n",
              "Age            float64\n",
              "SibSp            int64\n",
              "Parch            int64\n",
              "Ticket          object\n",
              "Fare           float64\n",
              "Cabin           object\n",
              "Embarked        object\n",
              "dtype: object"
            ]
          },
          "metadata": {},
          "execution_count": 8
        }
      ]
    },
    {
      "cell_type": "markdown",
      "source": [
        "**Subsetting Pandas DataFrame**\n"
      ],
      "metadata": {
        "id": "H3VzvX6DiTXV"
      }
    },
    {
      "cell_type": "code",
      "source": [
        "age_sex = titanic[[\"Age\", \"Sex\"]]\n",
        "age_sex"
      ],
      "metadata": {
        "colab": {
          "base_uri": "https://localhost:8080/",
          "height": 424
        },
        "id": "dTHfm-mXieJ8",
        "outputId": "3475bbc1-8cc2-4343-c1c0-b4c2289662ff"
      },
      "execution_count": null,
      "outputs": [
        {
          "output_type": "execute_result",
          "data": {
            "text/plain": [
              "      Age     Sex\n",
              "0    22.0    male\n",
              "1    38.0  female\n",
              "2    26.0  female\n",
              "3    35.0  female\n",
              "4    35.0    male\n",
              "..    ...     ...\n",
              "886  27.0    male\n",
              "887  19.0  female\n",
              "888   NaN  female\n",
              "889  26.0    male\n",
              "890  32.0    male\n",
              "\n",
              "[891 rows x 2 columns]"
            ],
            "text/html": [
              "\n",
              "  <div id=\"df-db9d8ab6-863b-41de-9272-1b81d0cab2db\">\n",
              "    <div class=\"colab-df-container\">\n",
              "      <div>\n",
              "<style scoped>\n",
              "    .dataframe tbody tr th:only-of-type {\n",
              "        vertical-align: middle;\n",
              "    }\n",
              "\n",
              "    .dataframe tbody tr th {\n",
              "        vertical-align: top;\n",
              "    }\n",
              "\n",
              "    .dataframe thead th {\n",
              "        text-align: right;\n",
              "    }\n",
              "</style>\n",
              "<table border=\"1\" class=\"dataframe\">\n",
              "  <thead>\n",
              "    <tr style=\"text-align: right;\">\n",
              "      <th></th>\n",
              "      <th>Age</th>\n",
              "      <th>Sex</th>\n",
              "    </tr>\n",
              "  </thead>\n",
              "  <tbody>\n",
              "    <tr>\n",
              "      <th>0</th>\n",
              "      <td>22.0</td>\n",
              "      <td>male</td>\n",
              "    </tr>\n",
              "    <tr>\n",
              "      <th>1</th>\n",
              "      <td>38.0</td>\n",
              "      <td>female</td>\n",
              "    </tr>\n",
              "    <tr>\n",
              "      <th>2</th>\n",
              "      <td>26.0</td>\n",
              "      <td>female</td>\n",
              "    </tr>\n",
              "    <tr>\n",
              "      <th>3</th>\n",
              "      <td>35.0</td>\n",
              "      <td>female</td>\n",
              "    </tr>\n",
              "    <tr>\n",
              "      <th>4</th>\n",
              "      <td>35.0</td>\n",
              "      <td>male</td>\n",
              "    </tr>\n",
              "    <tr>\n",
              "      <th>...</th>\n",
              "      <td>...</td>\n",
              "      <td>...</td>\n",
              "    </tr>\n",
              "    <tr>\n",
              "      <th>886</th>\n",
              "      <td>27.0</td>\n",
              "      <td>male</td>\n",
              "    </tr>\n",
              "    <tr>\n",
              "      <th>887</th>\n",
              "      <td>19.0</td>\n",
              "      <td>female</td>\n",
              "    </tr>\n",
              "    <tr>\n",
              "      <th>888</th>\n",
              "      <td>NaN</td>\n",
              "      <td>female</td>\n",
              "    </tr>\n",
              "    <tr>\n",
              "      <th>889</th>\n",
              "      <td>26.0</td>\n",
              "      <td>male</td>\n",
              "    </tr>\n",
              "    <tr>\n",
              "      <th>890</th>\n",
              "      <td>32.0</td>\n",
              "      <td>male</td>\n",
              "    </tr>\n",
              "  </tbody>\n",
              "</table>\n",
              "<p>891 rows × 2 columns</p>\n",
              "</div>\n",
              "      <button class=\"colab-df-convert\" onclick=\"convertToInteractive('df-db9d8ab6-863b-41de-9272-1b81d0cab2db')\"\n",
              "              title=\"Convert this dataframe to an interactive table.\"\n",
              "              style=\"display:none;\">\n",
              "        \n",
              "  <svg xmlns=\"http://www.w3.org/2000/svg\" height=\"24px\"viewBox=\"0 0 24 24\"\n",
              "       width=\"24px\">\n",
              "    <path d=\"M0 0h24v24H0V0z\" fill=\"none\"/>\n",
              "    <path d=\"M18.56 5.44l.94 2.06.94-2.06 2.06-.94-2.06-.94-.94-2.06-.94 2.06-2.06.94zm-11 1L8.5 8.5l.94-2.06 2.06-.94-2.06-.94L8.5 2.5l-.94 2.06-2.06.94zm10 10l.94 2.06.94-2.06 2.06-.94-2.06-.94-.94-2.06-.94 2.06-2.06.94z\"/><path d=\"M17.41 7.96l-1.37-1.37c-.4-.4-.92-.59-1.43-.59-.52 0-1.04.2-1.43.59L10.3 9.45l-7.72 7.72c-.78.78-.78 2.05 0 2.83L4 21.41c.39.39.9.59 1.41.59.51 0 1.02-.2 1.41-.59l7.78-7.78 2.81-2.81c.8-.78.8-2.07 0-2.86zM5.41 20L4 18.59l7.72-7.72 1.47 1.35L5.41 20z\"/>\n",
              "  </svg>\n",
              "      </button>\n",
              "      \n",
              "  <style>\n",
              "    .colab-df-container {\n",
              "      display:flex;\n",
              "      flex-wrap:wrap;\n",
              "      gap: 12px;\n",
              "    }\n",
              "\n",
              "    .colab-df-convert {\n",
              "      background-color: #E8F0FE;\n",
              "      border: none;\n",
              "      border-radius: 50%;\n",
              "      cursor: pointer;\n",
              "      display: none;\n",
              "      fill: #1967D2;\n",
              "      height: 32px;\n",
              "      padding: 0 0 0 0;\n",
              "      width: 32px;\n",
              "    }\n",
              "\n",
              "    .colab-df-convert:hover {\n",
              "      background-color: #E2EBFA;\n",
              "      box-shadow: 0px 1px 2px rgba(60, 64, 67, 0.3), 0px 1px 3px 1px rgba(60, 64, 67, 0.15);\n",
              "      fill: #174EA6;\n",
              "    }\n",
              "\n",
              "    [theme=dark] .colab-df-convert {\n",
              "      background-color: #3B4455;\n",
              "      fill: #D2E3FC;\n",
              "    }\n",
              "\n",
              "    [theme=dark] .colab-df-convert:hover {\n",
              "      background-color: #434B5C;\n",
              "      box-shadow: 0px 1px 3px 1px rgba(0, 0, 0, 0.15);\n",
              "      filter: drop-shadow(0px 1px 2px rgba(0, 0, 0, 0.3));\n",
              "      fill: #FFFFFF;\n",
              "    }\n",
              "  </style>\n",
              "\n",
              "      <script>\n",
              "        const buttonEl =\n",
              "          document.querySelector('#df-db9d8ab6-863b-41de-9272-1b81d0cab2db button.colab-df-convert');\n",
              "        buttonEl.style.display =\n",
              "          google.colab.kernel.accessAllowed ? 'block' : 'none';\n",
              "\n",
              "        async function convertToInteractive(key) {\n",
              "          const element = document.querySelector('#df-db9d8ab6-863b-41de-9272-1b81d0cab2db');\n",
              "          const dataTable =\n",
              "            await google.colab.kernel.invokeFunction('convertToInteractive',\n",
              "                                                     [key], {});\n",
              "          if (!dataTable) return;\n",
              "\n",
              "          const docLinkHtml = 'Like what you see? Visit the ' +\n",
              "            '<a target=\"_blank\" href=https://colab.research.google.com/notebooks/data_table.ipynb>data table notebook</a>'\n",
              "            + ' to learn more about interactive tables.';\n",
              "          element.innerHTML = '';\n",
              "          dataTable['output_type'] = 'display_data';\n",
              "          await google.colab.output.renderOutput(dataTable, element);\n",
              "          const docLink = document.createElement('div');\n",
              "          docLink.innerHTML = docLinkHtml;\n",
              "          element.appendChild(docLink);\n",
              "        }\n",
              "      </script>\n",
              "    </div>\n",
              "  </div>\n",
              "  "
            ]
          },
          "metadata": {},
          "execution_count": 9
        }
      ]
    },
    {
      "cell_type": "code",
      "source": [
        "above_35 = titanic[titanic[\"Age\"] > 35]\n",
        "above_35\n",
        "\n",
        "adult_names = titanic.loc[titanic[\"Age\"] > 35, \"Name\"]\n",
        "adult_names"
      ],
      "metadata": {
        "colab": {
          "base_uri": "https://localhost:8080/"
        },
        "id": "ncc9m8mAlAUV",
        "outputId": "a5a0c5ca-f76f-4e4f-b8e7-04d723c0238c"
      },
      "execution_count": null,
      "outputs": [
        {
          "output_type": "execute_result",
          "data": {
            "text/plain": [
              "1      Cumings, Mrs. John Bradley (Florence Briggs Th...\n",
              "6                                McCarthy, Mr. Timothy J\n",
              "11                              Bonnell, Miss. Elizabeth\n",
              "13                           Andersson, Mr. Anders Johan\n",
              "15                      Hewlett, Mrs. (Mary D Kingcome) \n",
              "                             ...                        \n",
              "865                             Bystrom, Mrs. (Karolina)\n",
              "871     Beckwith, Mrs. Richard Leonard (Sallie Monypeny)\n",
              "873                          Vander Cruyssen, Mr. Victor\n",
              "879        Potter, Mrs. Thomas Jr (Lily Alexenia Wilson)\n",
              "885                 Rice, Mrs. William (Margaret Norton)\n",
              "Name: Name, Length: 217, dtype: object"
            ]
          },
          "metadata": {},
          "execution_count": 10
        }
      ]
    },
    {
      "cell_type": "markdown",
      "source": [
        "# Reading data where one of the columns is time-related\n",
        "\n",
        "Often we will work with dataset where one column contains time related data. For those cases, make sure you specify *parse_dates = True* in the options."
      ],
      "metadata": {
        "id": "bkGfMyjzm6N9"
      }
    },
    {
      "cell_type": "code",
      "source": [
        "air_quality = pd.read_csv(\"https://raw.githubusercontent.com/pandas-dev/pandas/main/doc/data/air_quality_no2_long.csv\", index_col=0, parse_dates=True)\n",
        "air_quality"
      ],
      "metadata": {
        "colab": {
          "base_uri": "https://localhost:8080/",
          "height": 455
        },
        "id": "_Bnp8GIflVSK",
        "outputId": "53803d66-b104-403f-ba6c-3a0d1d46e3b1"
      },
      "execution_count": null,
      "outputs": [
        {
          "output_type": "execute_result",
          "data": {
            "text/plain": [
              "       country                   date.utc            location parameter  \\\n",
              "city                                                                      \n",
              "Paris       FR  2019-06-21 00:00:00+00:00             FR04014       no2   \n",
              "Paris       FR  2019-06-20 23:00:00+00:00             FR04014       no2   \n",
              "Paris       FR  2019-06-20 22:00:00+00:00             FR04014       no2   \n",
              "Paris       FR  2019-06-20 21:00:00+00:00             FR04014       no2   \n",
              "Paris       FR  2019-06-20 20:00:00+00:00             FR04014       no2   \n",
              "...        ...                        ...                 ...       ...   \n",
              "London      GB  2019-05-07 06:00:00+00:00  London Westminster       no2   \n",
              "London      GB  2019-05-07 04:00:00+00:00  London Westminster       no2   \n",
              "London      GB  2019-05-07 03:00:00+00:00  London Westminster       no2   \n",
              "London      GB  2019-05-07 02:00:00+00:00  London Westminster       no2   \n",
              "London      GB  2019-05-07 01:00:00+00:00  London Westminster       no2   \n",
              "\n",
              "        value   unit  \n",
              "city                  \n",
              "Paris    20.0  µg/m³  \n",
              "Paris    21.8  µg/m³  \n",
              "Paris    26.5  µg/m³  \n",
              "Paris    24.9  µg/m³  \n",
              "Paris    21.4  µg/m³  \n",
              "...       ...    ...  \n",
              "London   26.0  µg/m³  \n",
              "London   16.0  µg/m³  \n",
              "London   19.0  µg/m³  \n",
              "London   19.0  µg/m³  \n",
              "London   23.0  µg/m³  \n",
              "\n",
              "[2068 rows x 6 columns]"
            ],
            "text/html": [
              "\n",
              "  <div id=\"df-8b6ec7b5-7788-4b29-8ba9-78378309786e\">\n",
              "    <div class=\"colab-df-container\">\n",
              "      <div>\n",
              "<style scoped>\n",
              "    .dataframe tbody tr th:only-of-type {\n",
              "        vertical-align: middle;\n",
              "    }\n",
              "\n",
              "    .dataframe tbody tr th {\n",
              "        vertical-align: top;\n",
              "    }\n",
              "\n",
              "    .dataframe thead th {\n",
              "        text-align: right;\n",
              "    }\n",
              "</style>\n",
              "<table border=\"1\" class=\"dataframe\">\n",
              "  <thead>\n",
              "    <tr style=\"text-align: right;\">\n",
              "      <th></th>\n",
              "      <th>country</th>\n",
              "      <th>date.utc</th>\n",
              "      <th>location</th>\n",
              "      <th>parameter</th>\n",
              "      <th>value</th>\n",
              "      <th>unit</th>\n",
              "    </tr>\n",
              "    <tr>\n",
              "      <th>city</th>\n",
              "      <th></th>\n",
              "      <th></th>\n",
              "      <th></th>\n",
              "      <th></th>\n",
              "      <th></th>\n",
              "      <th></th>\n",
              "    </tr>\n",
              "  </thead>\n",
              "  <tbody>\n",
              "    <tr>\n",
              "      <th>Paris</th>\n",
              "      <td>FR</td>\n",
              "      <td>2019-06-21 00:00:00+00:00</td>\n",
              "      <td>FR04014</td>\n",
              "      <td>no2</td>\n",
              "      <td>20.0</td>\n",
              "      <td>µg/m³</td>\n",
              "    </tr>\n",
              "    <tr>\n",
              "      <th>Paris</th>\n",
              "      <td>FR</td>\n",
              "      <td>2019-06-20 23:00:00+00:00</td>\n",
              "      <td>FR04014</td>\n",
              "      <td>no2</td>\n",
              "      <td>21.8</td>\n",
              "      <td>µg/m³</td>\n",
              "    </tr>\n",
              "    <tr>\n",
              "      <th>Paris</th>\n",
              "      <td>FR</td>\n",
              "      <td>2019-06-20 22:00:00+00:00</td>\n",
              "      <td>FR04014</td>\n",
              "      <td>no2</td>\n",
              "      <td>26.5</td>\n",
              "      <td>µg/m³</td>\n",
              "    </tr>\n",
              "    <tr>\n",
              "      <th>Paris</th>\n",
              "      <td>FR</td>\n",
              "      <td>2019-06-20 21:00:00+00:00</td>\n",
              "      <td>FR04014</td>\n",
              "      <td>no2</td>\n",
              "      <td>24.9</td>\n",
              "      <td>µg/m³</td>\n",
              "    </tr>\n",
              "    <tr>\n",
              "      <th>Paris</th>\n",
              "      <td>FR</td>\n",
              "      <td>2019-06-20 20:00:00+00:00</td>\n",
              "      <td>FR04014</td>\n",
              "      <td>no2</td>\n",
              "      <td>21.4</td>\n",
              "      <td>µg/m³</td>\n",
              "    </tr>\n",
              "    <tr>\n",
              "      <th>...</th>\n",
              "      <td>...</td>\n",
              "      <td>...</td>\n",
              "      <td>...</td>\n",
              "      <td>...</td>\n",
              "      <td>...</td>\n",
              "      <td>...</td>\n",
              "    </tr>\n",
              "    <tr>\n",
              "      <th>London</th>\n",
              "      <td>GB</td>\n",
              "      <td>2019-05-07 06:00:00+00:00</td>\n",
              "      <td>London Westminster</td>\n",
              "      <td>no2</td>\n",
              "      <td>26.0</td>\n",
              "      <td>µg/m³</td>\n",
              "    </tr>\n",
              "    <tr>\n",
              "      <th>London</th>\n",
              "      <td>GB</td>\n",
              "      <td>2019-05-07 04:00:00+00:00</td>\n",
              "      <td>London Westminster</td>\n",
              "      <td>no2</td>\n",
              "      <td>16.0</td>\n",
              "      <td>µg/m³</td>\n",
              "    </tr>\n",
              "    <tr>\n",
              "      <th>London</th>\n",
              "      <td>GB</td>\n",
              "      <td>2019-05-07 03:00:00+00:00</td>\n",
              "      <td>London Westminster</td>\n",
              "      <td>no2</td>\n",
              "      <td>19.0</td>\n",
              "      <td>µg/m³</td>\n",
              "    </tr>\n",
              "    <tr>\n",
              "      <th>London</th>\n",
              "      <td>GB</td>\n",
              "      <td>2019-05-07 02:00:00+00:00</td>\n",
              "      <td>London Westminster</td>\n",
              "      <td>no2</td>\n",
              "      <td>19.0</td>\n",
              "      <td>µg/m³</td>\n",
              "    </tr>\n",
              "    <tr>\n",
              "      <th>London</th>\n",
              "      <td>GB</td>\n",
              "      <td>2019-05-07 01:00:00+00:00</td>\n",
              "      <td>London Westminster</td>\n",
              "      <td>no2</td>\n",
              "      <td>23.0</td>\n",
              "      <td>µg/m³</td>\n",
              "    </tr>\n",
              "  </tbody>\n",
              "</table>\n",
              "<p>2068 rows × 6 columns</p>\n",
              "</div>\n",
              "      <button class=\"colab-df-convert\" onclick=\"convertToInteractive('df-8b6ec7b5-7788-4b29-8ba9-78378309786e')\"\n",
              "              title=\"Convert this dataframe to an interactive table.\"\n",
              "              style=\"display:none;\">\n",
              "        \n",
              "  <svg xmlns=\"http://www.w3.org/2000/svg\" height=\"24px\"viewBox=\"0 0 24 24\"\n",
              "       width=\"24px\">\n",
              "    <path d=\"M0 0h24v24H0V0z\" fill=\"none\"/>\n",
              "    <path d=\"M18.56 5.44l.94 2.06.94-2.06 2.06-.94-2.06-.94-.94-2.06-.94 2.06-2.06.94zm-11 1L8.5 8.5l.94-2.06 2.06-.94-2.06-.94L8.5 2.5l-.94 2.06-2.06.94zm10 10l.94 2.06.94-2.06 2.06-.94-2.06-.94-.94-2.06-.94 2.06-2.06.94z\"/><path d=\"M17.41 7.96l-1.37-1.37c-.4-.4-.92-.59-1.43-.59-.52 0-1.04.2-1.43.59L10.3 9.45l-7.72 7.72c-.78.78-.78 2.05 0 2.83L4 21.41c.39.39.9.59 1.41.59.51 0 1.02-.2 1.41-.59l7.78-7.78 2.81-2.81c.8-.78.8-2.07 0-2.86zM5.41 20L4 18.59l7.72-7.72 1.47 1.35L5.41 20z\"/>\n",
              "  </svg>\n",
              "      </button>\n",
              "      \n",
              "  <style>\n",
              "    .colab-df-container {\n",
              "      display:flex;\n",
              "      flex-wrap:wrap;\n",
              "      gap: 12px;\n",
              "    }\n",
              "\n",
              "    .colab-df-convert {\n",
              "      background-color: #E8F0FE;\n",
              "      border: none;\n",
              "      border-radius: 50%;\n",
              "      cursor: pointer;\n",
              "      display: none;\n",
              "      fill: #1967D2;\n",
              "      height: 32px;\n",
              "      padding: 0 0 0 0;\n",
              "      width: 32px;\n",
              "    }\n",
              "\n",
              "    .colab-df-convert:hover {\n",
              "      background-color: #E2EBFA;\n",
              "      box-shadow: 0px 1px 2px rgba(60, 64, 67, 0.3), 0px 1px 3px 1px rgba(60, 64, 67, 0.15);\n",
              "      fill: #174EA6;\n",
              "    }\n",
              "\n",
              "    [theme=dark] .colab-df-convert {\n",
              "      background-color: #3B4455;\n",
              "      fill: #D2E3FC;\n",
              "    }\n",
              "\n",
              "    [theme=dark] .colab-df-convert:hover {\n",
              "      background-color: #434B5C;\n",
              "      box-shadow: 0px 1px 3px 1px rgba(0, 0, 0, 0.15);\n",
              "      filter: drop-shadow(0px 1px 2px rgba(0, 0, 0, 0.3));\n",
              "      fill: #FFFFFF;\n",
              "    }\n",
              "  </style>\n",
              "\n",
              "      <script>\n",
              "        const buttonEl =\n",
              "          document.querySelector('#df-8b6ec7b5-7788-4b29-8ba9-78378309786e button.colab-df-convert');\n",
              "        buttonEl.style.display =\n",
              "          google.colab.kernel.accessAllowed ? 'block' : 'none';\n",
              "\n",
              "        async function convertToInteractive(key) {\n",
              "          const element = document.querySelector('#df-8b6ec7b5-7788-4b29-8ba9-78378309786e');\n",
              "          const dataTable =\n",
              "            await google.colab.kernel.invokeFunction('convertToInteractive',\n",
              "                                                     [key], {});\n",
              "          if (!dataTable) return;\n",
              "\n",
              "          const docLinkHtml = 'Like what you see? Visit the ' +\n",
              "            '<a target=\"_blank\" href=https://colab.research.google.com/notebooks/data_table.ipynb>data table notebook</a>'\n",
              "            + ' to learn more about interactive tables.';\n",
              "          element.innerHTML = '';\n",
              "          dataTable['output_type'] = 'display_data';\n",
              "          await google.colab.output.renderOutput(dataTable, element);\n",
              "          const docLink = document.createElement('div');\n",
              "          docLink.innerHTML = docLinkHtml;\n",
              "          element.appendChild(docLink);\n",
              "        }\n",
              "      </script>\n",
              "    </div>\n",
              "  </div>\n",
              "  "
            ]
          },
          "metadata": {},
          "execution_count": 13
        }
      ]
    },
    {
      "cell_type": "code",
      "source": [
        "air_quality = air_quality.rename(columns={\"date.utc\": \"datetime\"})\n",
        "air_quality[\"datetime\"] = pd.to_datetime(air_quality[\"datetime\"])"
      ],
      "metadata": {
        "id": "tMYT_VhSp88n"
      },
      "execution_count": null,
      "outputs": []
    },
    {
      "cell_type": "code",
      "source": [
        "air_quality.info()"
      ],
      "metadata": {
        "colab": {
          "base_uri": "https://localhost:8080/"
        },
        "id": "EOTF2eCrnQSo",
        "outputId": "7c125ec0-74ed-477d-fb6e-ebb8139917d2"
      },
      "execution_count": null,
      "outputs": [
        {
          "output_type": "stream",
          "name": "stdout",
          "text": [
            "<class 'pandas.core.frame.DataFrame'>\n",
            "Index: 2068 entries, Paris to London\n",
            "Data columns (total 6 columns):\n",
            " #   Column     Non-Null Count  Dtype              \n",
            "---  ------     --------------  -----              \n",
            " 0   country    2068 non-null   object             \n",
            " 1   datetime   2068 non-null   datetime64[ns, UTC]\n",
            " 2   location   2068 non-null   object             \n",
            " 3   parameter  2068 non-null   object             \n",
            " 4   value      2068 non-null   float64            \n",
            " 5   unit       2068 non-null   object             \n",
            "dtypes: datetime64[ns, UTC](1), float64(1), object(4)\n",
            "memory usage: 177.6+ KB\n"
          ]
        }
      ]
    },
    {
      "cell_type": "code",
      "source": [
        "air_quality['datetime'].min()"
      ],
      "metadata": {
        "colab": {
          "base_uri": "https://localhost:8080/"
        },
        "id": "yq9Dm13ZxcCU",
        "outputId": "5715ef29-998c-438e-d5d2-951dde5c6c7e"
      },
      "execution_count": null,
      "outputs": [
        {
          "output_type": "execute_result",
          "data": {
            "text/plain": [
              "Timestamp('2019-05-07 01:00:00+0000', tz='UTC')"
            ]
          },
          "metadata": {},
          "execution_count": 28
        }
      ]
    },
    {
      "cell_type": "code",
      "source": [
        "import matplotlib.pyplot as plt\n",
        "\n",
        "fig, axs = plt.subplots(figsize=(12, 4))\n",
        "\n",
        "air_quality.groupby(air_quality[\"datetime\"].dt.hour)[\"value\"].mean().plot(\n",
        "   kind='bar', rot=0, ax=axs)\n",
        "\n",
        "plt.xlabel(\"Hour of the day\");  # custom x label using matplotlib\n",
        "\n",
        "plt.ylabel(\"$NO_2 (µg/m^3)$\");"
      ],
      "metadata": {
        "colab": {
          "base_uri": "https://localhost:8080/",
          "height": 279
        },
        "id": "TZdjE86trCSM",
        "outputId": "cca32e47-cb4d-48ce-8415-4cf0361678af"
      },
      "execution_count": null,
      "outputs": [
        {
          "output_type": "display_data",
          "data": {
            "text/plain": [
              "<Figure size 864x288 with 1 Axes>"
            ],
            "image/png": "[encoded data removed]"
          },
          "metadata": {
            "needs_background": "light"
          }
        }
      ]
    },
    {
      "cell_type": "markdown",
      "source": [
        "# Grouping and Aggregation\n",
        "\n",
        "Grouping and aggregation are important summarizing operations that can give you a high level overview of data."
      ],
      "metadata": {
        "id": "lxfLJM8Exzt8"
      }
    },
    {
      "cell_type": "code",
      "source": [
        "cars = pd.read_csv(\"https://an-utd-python.s3.us-west-1.amazonaws.com/Car_sales.csv\")"
      ],
      "metadata": {
        "id": "s1k8L3kK5bOS"
      },
      "execution_count": null,
      "outputs": []
    },
    {
      "cell_type": "code",
      "source": [
        "cars.head()"
      ],
      "metadata": {
        "colab": {
          "base_uri": "https://localhost:8080/",
          "height": 270
        },
        "id": "nprrTzoa5hut",
        "outputId": "f106b522-5a09-4591-f2df-39665f4ce81d"
      },
      "execution_count": null,
      "outputs": [
        {
          "output_type": "execute_result",
          "data": {
            "text/plain": [
              "  Manufacturer    Model  Sales_in_thousands  __year_resale_value Vehicle_type  \\\n",
              "0        Acura  Integra              16.919               16.360    Passenger   \n",
              "1        Acura       TL              39.384               19.875    Passenger   \n",
              "2        Acura       CL              14.114               18.225    Passenger   \n",
              "3        Acura       RL               8.588               29.725    Passenger   \n",
              "4         Audi       A4              20.397               22.255    Passenger   \n",
              "\n",
              "   Price_in_thousands  Engine_size  Horsepower  Wheelbase  Width  Length  \\\n",
              "0               21.50          1.8       140.0      101.2   67.3   172.4   \n",
              "1               28.40          3.2       225.0      108.1   70.3   192.9   \n",
              "2                 NaN          3.2       225.0      106.9   70.6   192.0   \n",
              "3               42.00          3.5       210.0      114.6   71.4   196.6   \n",
              "4               23.99          1.8       150.0      102.6   68.2   178.0   \n",
              "\n",
              "   Curb_weight  Fuel_capacity  Fuel_efficiency Latest_Launch  \\\n",
              "0        2.639           13.2             28.0      2/2/2012   \n",
              "1        3.517           17.2             25.0      6/3/2011   \n",
              "2        3.470           17.2             26.0      1/4/2012   \n",
              "3        3.850           18.0             22.0     3/10/2011   \n",
              "4        2.998           16.4             27.0     10/8/2011   \n",
              "\n",
              "   Power_perf_factor  \n",
              "0          58.280150  \n",
              "1          91.370778  \n",
              "2                NaN  \n",
              "3          91.389779  \n",
              "4          62.777639  "
            ],
            "text/html": [
              "\n",
              "  <div id=\"df-a352a0a5-ed2f-43c2-89f1-d5374956d494\">\n",
              "    <div class=\"colab-df-container\">\n",
              "      <div>\n",
              "<style scoped>\n",
              "    .dataframe tbody tr th:only-of-type {\n",
              "        vertical-align: middle;\n",
              "    }\n",
              "\n",
              "    .dataframe tbody tr th {\n",
              "        vertical-align: top;\n",
              "    }\n",
              "\n",
              "    .dataframe thead th {\n",
              "        text-align: right;\n",
              "    }\n",
              "</style>\n",
              "<table border=\"1\" class=\"dataframe\">\n",
              "  <thead>\n",
              "    <tr style=\"text-align: right;\">\n",
              "      <th></th>\n",
              "      <th>Manufacturer</th>\n",
              "      <th>Model</th>\n",
              "      <th>Sales_in_thousands</th>\n",
              "      <th>__year_resale_value</th>\n",
              "      <th>Vehicle_type</th>\n",
              "      <th>Price_in_thousands</th>\n",
              "      <th>Engine_size</th>\n",
              "      <th>Horsepower</th>\n",
              "      <th>Wheelbase</th>\n",
              "      <th>Width</th>\n",
              "      <th>Length</th>\n",
              "      <th>Curb_weight</th>\n",
              "      <th>Fuel_capacity</th>\n",
              "      <th>Fuel_efficiency</th>\n",
              "      <th>Latest_Launch</th>\n",
              "      <th>Power_perf_factor</th>\n",
              "    </tr>\n",
              "  </thead>\n",
              "  <tbody>\n",
              "    <tr>\n",
              "      <th>0</th>\n",
              "      <td>Acura</td>\n",
              "      <td>Integra</td>\n",
              "      <td>16.919</td>\n",
              "      <td>16.360</td>\n",
              "      <td>Passenger</td>\n",
              "      <td>21.50</td>\n",
              "      <td>1.8</td>\n",
              "      <td>140.0</td>\n",
              "      <td>101.2</td>\n",
              "      <td>67.3</td>\n",
              "      <td>172.4</td>\n",
              "      <td>2.639</td>\n",
              "      <td>13.2</td>\n",
              "      <td>28.0</td>\n",
              "      <td>2/2/2012</td>\n",
              "      <td>58.280150</td>\n",
              "    </tr>\n",
              "    <tr>\n",
              "      <th>1</th>\n",
              "      <td>Acura</td>\n",
              "      <td>TL</td>\n",
              "      <td>39.384</td>\n",
              "      <td>19.875</td>\n",
              "      <td>Passenger</td>\n",
              "      <td>28.40</td>\n",
              "      <td>3.2</td>\n",
              "      <td>225.0</td>\n",
              "      <td>108.1</td>\n",
              "      <td>70.3</td>\n",
              "      <td>192.9</td>\n",
              "      <td>3.517</td>\n",
              "      <td>17.2</td>\n",
              "      <td>25.0</td>\n",
              "      <td>6/3/2011</td>\n",
              "      <td>91.370778</td>\n",
              "    </tr>\n",
              "    <tr>\n",
              "      <th>2</th>\n",
              "      <td>Acura</td>\n",
              "      <td>CL</td>\n",
              "      <td>14.114</td>\n",
              "      <td>18.225</td>\n",
              "      <td>Passenger</td>\n",
              "      <td>NaN</td>\n",
              "      <td>3.2</td>\n",
              "      <td>225.0</td>\n",
              "      <td>106.9</td>\n",
              "      <td>70.6</td>\n",
              "      <td>192.0</td>\n",
              "      <td>3.470</td>\n",
              "      <td>17.2</td>\n",
              "      <td>26.0</td>\n",
              "      <td>1/4/2012</td>\n",
              "      <td>NaN</td>\n",
              "    </tr>\n",
              "    <tr>\n",
              "      <th>3</th>\n",
              "      <td>Acura</td>\n",
              "      <td>RL</td>\n",
              "      <td>8.588</td>\n",
              "      <td>29.725</td>\n",
              "      <td>Passenger</td>\n",
              "      <td>42.00</td>\n",
              "      <td>3.5</td>\n",
              "      <td>210.0</td>\n",
              "      <td>114.6</td>\n",
              "      <td>71.4</td>\n",
              "      <td>196.6</td>\n",
              "      <td>3.850</td>\n",
              "      <td>18.0</td>\n",
              "      <td>22.0</td>\n",
              "      <td>3/10/2011</td>\n",
              "      <td>91.389779</td>\n",
              "    </tr>\n",
              "    <tr>\n",
              "      <th>4</th>\n",
              "      <td>Audi</td>\n",
              "      <td>A4</td>\n",
              "      <td>20.397</td>\n",
              "      <td>22.255</td>\n",
              "      <td>Passenger</td>\n",
              "      <td>23.99</td>\n",
              "      <td>1.8</td>\n",
              "      <td>150.0</td>\n",
              "      <td>102.6</td>\n",
              "      <td>68.2</td>\n",
              "      <td>178.0</td>\n",
              "      <td>2.998</td>\n",
              "      <td>16.4</td>\n",
              "      <td>27.0</td>\n",
              "      <td>10/8/2011</td>\n",
              "      <td>62.777639</td>\n",
              "    </tr>\n",
              "  </tbody>\n",
              "</table>\n",
              "</div>\n",
              "      <button class=\"colab-df-convert\" onclick=\"convertToInteractive('df-a352a0a5-ed2f-43c2-89f1-d5374956d494')\"\n",
              "              title=\"Convert this dataframe to an interactive table.\"\n",
              "              style=\"display:none;\">\n",
              "        \n",
              "  <svg xmlns=\"http://www.w3.org/2000/svg\" height=\"24px\"viewBox=\"0 0 24 24\"\n",
              "       width=\"24px\">\n",
              "    <path d=\"M0 0h24v24H0V0z\" fill=\"none\"/>\n",
              "    <path d=\"M18.56 5.44l.94 2.06.94-2.06 2.06-.94-2.06-.94-.94-2.06-.94 2.06-2.06.94zm-11 1L8.5 8.5l.94-2.06 2.06-.94-2.06-.94L8.5 2.5l-.94 2.06-2.06.94zm10 10l.94 2.06.94-2.06 2.06-.94-2.06-.94-.94-2.06-.94 2.06-2.06.94z\"/><path d=\"M17.41 7.96l-1.37-1.37c-.4-.4-.92-.59-1.43-.59-.52 0-1.04.2-1.43.59L10.3 9.45l-7.72 7.72c-.78.78-.78 2.05 0 2.83L4 21.41c.39.39.9.59 1.41.59.51 0 1.02-.2 1.41-.59l7.78-7.78 2.81-2.81c.8-.78.8-2.07 0-2.86zM5.41 20L4 18.59l7.72-7.72 1.47 1.35L5.41 20z\"/>\n",
              "  </svg>\n",
              "      </button>\n",
              "      \n",
              "  <style>\n",
              "    .colab-df-container {\n",
              "      display:flex;\n",
              "      flex-wrap:wrap;\n",
              "      gap: 12px;\n",
              "    }\n",
              "\n",
              "    .colab-df-convert {\n",
              "      background-color: #E8F0FE;\n",
              "      border: none;\n",
              "      border-radius: 50%;\n",
              "      cursor: pointer;\n",
              "      display: none;\n",
              "      fill: #1967D2;\n",
              "      height: 32px;\n",
              "      padding: 0 0 0 0;\n",
              "      width: 32px;\n",
              "    }\n",
              "\n",
              "    .colab-df-convert:hover {\n",
              "      background-color: #E2EBFA;\n",
              "      box-shadow: 0px 1px 2px rgba(60, 64, 67, 0.3), 0px 1px 3px 1px rgba(60, 64, 67, 0.15);\n",
              "      fill: #174EA6;\n",
              "    }\n",
              "\n",
              "    [theme=dark] .colab-df-convert {\n",
              "      background-color: #3B4455;\n",
              "      fill: #D2E3FC;\n",
              "    }\n",
              "\n",
              "    [theme=dark] .colab-df-convert:hover {\n",
              "      background-color: #434B5C;\n",
              "      box-shadow: 0px 1px 3px 1px rgba(0, 0, 0, 0.15);\n",
              "      filter: drop-shadow(0px 1px 2px rgba(0, 0, 0, 0.3));\n",
              "      fill: #FFFFFF;\n",
              "    }\n",
              "  </style>\n",
              "\n",
              "      <script>\n",
              "        const buttonEl =\n",
              "          document.querySelector('#df-a352a0a5-ed2f-43c2-89f1-d5374956d494 button.colab-df-convert');\n",
              "        buttonEl.style.display =\n",
              "          google.colab.kernel.accessAllowed ? 'block' : 'none';\n",
              "\n",
              "        async function convertToInteractive(key) {\n",
              "          const element = document.querySelector('#df-a352a0a5-ed2f-43c2-89f1-d5374956d494');\n",
              "          const dataTable =\n",
              "            await google.colab.kernel.invokeFunction('convertToInteractive',\n",
              "                                                     [key], {});\n",
              "          if (!dataTable) return;\n",
              "\n",
              "          const docLinkHtml = 'Like what you see? Visit the ' +\n",
              "            '<a target=\"_blank\" href=https://colab.research.google.com/notebooks/data_table.ipynb>data table notebook</a>'\n",
              "            + ' to learn more about interactive tables.';\n",
              "          element.innerHTML = '';\n",
              "          dataTable['output_type'] = 'display_data';\n",
              "          await google.colab.output.renderOutput(dataTable, element);\n",
              "          const docLink = document.createElement('div');\n",
              "          docLink.innerHTML = docLinkHtml;\n",
              "          element.appendChild(docLink);\n",
              "        }\n",
              "      </script>\n",
              "    </div>\n",
              "  </div>\n",
              "  "
            ]
          },
          "metadata": {},
          "execution_count": 30
        }
      ]
    },
    {
      "cell_type": "markdown",
      "source": [
        "## Task 1:\n",
        "Run the following queries on the cars dataset that you loaded above:\n",
        "\n",
        "1. Give a breakdown of count of models grouped by manufacturer. Sort your answer in decreasing order of count of models\n",
        "2. Find the most expensive car for each manufacturer\n",
        "3. Find average fuel_efficiency for each vehicle_type\n",
        "4. Using the columns *Price_in_thousands* and *Sales_in_thousands*, create a new column called *Total_Revenue_in_thousands*"
      ],
      "metadata": {
        "id": "_FGGNQ5g6NBr"
      }
    },
    {
      "cell_type": "markdown",
      "source": [
        "## Plotting and Visualization Using Seaborn Library\n",
        "\n",
        "Two important plots to remember are histograms showing data distribution and scatter or line plots showing covariance or correlation of two or more attributes."
      ],
      "metadata": {
        "id": "A7mCunrlL_YP"
      }
    },
    {
      "cell_type": "code",
      "source": [
        "import seaborn as sns\n",
        "penguins = sns.load_dataset(\"penguins\")\n",
        "sns.displot(penguins, x=\"flipper_length_mm\")"
      ],
      "metadata": {
        "colab": {
          "base_uri": "https://localhost:8080/",
          "height": 407
        },
        "id": "MQ-Yqo8kMSWR",
        "outputId": "1c868996-3c94-429f-96fe-f39d1786d23f"
      },
      "execution_count": null,
      "outputs": [
        {
          "output_type": "execute_result",
          "data": {
            "text/plain": [
              "<seaborn.axisgrid.FacetGrid at 0x7fcaac66a710>"
            ]
          },
          "metadata": {},
          "execution_count": 2
        },
        {
          "output_type": "display_data",
          "data": {
            "text/plain": [
              "<Figure size 360x360 with 1 Axes>"
            ],
            "image/png": "[encoded data removed]"
          },
          "metadata": {
            "needs_background": "light"
          }
        }
      ]
    },
    {
      "cell_type": "code",
      "source": [
        "# visualizing distribution with hue (color) based on other categorical variables\n",
        "sns.displot(penguins, x=\"flipper_length_mm\", hue=\"species\")"
      ],
      "metadata": {
        "colab": {
          "base_uri": "https://localhost:8080/",
          "height": 407
        },
        "id": "EjKhHkNMMwgt",
        "outputId": "a07bf082-7bbd-4e86-de36-2fb0c6e86785"
      },
      "execution_count": null,
      "outputs": [
        {
          "output_type": "execute_result",
          "data": {
            "text/plain": [
              "<seaborn.axisgrid.FacetGrid at 0x7fcaabe0c390>"
            ]
          },
          "metadata": {},
          "execution_count": 3
        },
        {
          "output_type": "display_data",
          "data": {
            "text/plain": [
              "<Figure size 444.125x360 with 1 Axes>"
            ],
            "image/png": "[encoded data removed]"
          },
          "metadata": {
            "needs_background": "light"
          }
        }
      ]
    },
    {
      "cell_type": "code",
      "source": [
        "sns.displot(penguins, x=\"flipper_length_mm\", col=\"sex\", hue=\"species\")"
      ],
      "metadata": {
        "colab": {
          "base_uri": "https://localhost:8080/",
          "height": 407
        },
        "id": "Q-F7g6X_NACc",
        "outputId": "bcdf0cd3-4a7c-4f07-fd61-88deebc8e3e4"
      },
      "execution_count": null,
      "outputs": [
        {
          "output_type": "execute_result",
          "data": {
            "text/plain": [
              "<seaborn.axisgrid.FacetGrid at 0x7fcaa896b750>"
            ]
          },
          "metadata": {},
          "execution_count": 5
        },
        {
          "output_type": "display_data",
          "data": {
            "text/plain": [
              "<Figure size 804.125x360 with 2 Axes>"
            ],
            "image/png": "[encoded data removed]"
          },
          "metadata": {
            "needs_background": "light"
          }
        }
      ]
    },
    {
      "cell_type": "code",
      "source": [
        "# Data scatter plots\n",
        "tips = sns.load_dataset(\"tips\")\n",
        "sns.relplot(x=\"total_bill\", y=\"tip\", data=tips);"
      ],
      "metadata": {
        "colab": {
          "base_uri": "https://localhost:8080/",
          "height": 390
        },
        "id": "c1Fxw_tUNRXk",
        "outputId": "8cb7a500-c830-49a5-c1ae-c4be5753f1a1"
      },
      "execution_count": null,
      "outputs": [
        {
          "output_type": "display_data",
          "data": {
            "text/plain": [
              "<Figure size 360x360 with 1 Axes>"
            ],
            "image/png": "[encoded data removed]"
          },
          "metadata": {
            "needs_background": "light"
          }
        }
      ]
    },
    {
      "cell_type": "code",
      "source": [
        "sns.relplot(x=\"total_bill\", y=\"tip\", hue=\"smoker\", data=tips);"
      ],
      "metadata": {
        "colab": {
          "base_uri": "https://localhost:8080/",
          "height": 390
        },
        "id": "5Vye0CFDNXC3",
        "outputId": "82686e0f-c1f1-4871-e112-6d98cfdb569d"
      },
      "execution_count": null,
      "outputs": [
        {
          "output_type": "display_data",
          "data": {
            "text/plain": [
              "<Figure size 412x360 with 1 Axes>"
            ],
            "image/png": "[encoded data removed]"
          },
          "metadata": {
            "needs_background": "light"
          }
        }
      ]
    },
    {
      "cell_type": "code",
      "source": [
        "sns.relplot(x=\"total_bill\", y=\"tip\", hue=\"smoker\", style=\"smoker\",\n",
        "            data=tips);"
      ],
      "metadata": {
        "colab": {
          "base_uri": "https://localhost:8080/",
          "height": 390
        },
        "id": "xsozXDFANc51",
        "outputId": "9492af90-6ed5-474b-e48f-7534701fa4f7"
      },
      "execution_count": null,
      "outputs": [
        {
          "output_type": "display_data",
          "data": {
            "text/plain": [
              "<Figure size 412x360 with 1 Axes>"
            ],
            "image/png": "[encoded data removed]"
          },
          "metadata": {
            "needs_background": "light"
          }
        }
      ]
    },
    {
      "cell_type": "code",
      "source": [
        "sns.relplot(x=\"total_bill\", y=\"tip\", hue=\"smoker\", style=\"time\", data=tips);"
      ],
      "metadata": {
        "id": "dg4uG1tyNni1",
        "outputId": "4098c0f9-3915-4ff0-9696-510a264f4bab",
        "colab": {
          "base_uri": "https://localhost:8080/",
          "height": 390
        }
      },
      "execution_count": null,
      "outputs": [
        {
          "output_type": "display_data",
          "data": {
            "text/plain": [
              "<Figure size 429.625x360 with 1 Axes>"
            ],
            "image/png": "[encoded data removed]"
          },
          "metadata": {
            "needs_background": "light"
          }
        }
      ]
    },
    {
      "cell_type": "markdown",
      "source": [
        "## Task 2:\n",
        "Create the following plots:\n",
        "\n",
        "1. Using the cars dataset that you used earlier, plot a distribution of the fuel efficiency color coded by manufacturer.\n",
        "2. Using the cars dataset that you used earlier, create a scatter plot of fuel efficiency against engine size color coded by the vehicle type.\n",
        "\n"
      ],
      "metadata": {
        "id": "qPwbIDsYNS5C"
      }
    },
    {
      "cell_type": "markdown",
      "source": [
        "# Machine Learning Concepts\n",
        "\n",
        "In ML, we try to develop predictive models that try to predict a target attribute. Depending on the type of the target attribute, two main types of learning are defined:\n",
        "\n",
        "1.   If the target attribute is *numerical*, the prediction model is called **regression**.\n",
        "1.   If the target attribute is *categorical*, the prediction model is called **classification**.\n",
        "\n",
        "\n",
        "\n",
        "Suppose there are p features (x1, x2, ..., xp). Each feature will have a weight in the prediction column (w1, w2, ..., wp). We also need to include the bias term w0. So, the model will be:\n",
        "\n",
        "(Note that the model gives the predicted value)\n",
        "\n",
        "\n",
        "\n",
        "![image.png](data:image/png;base64,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)\n",
        "\n",
        "\n",
        "\n",
        "\n",
        "The **error** of the model is defined as the difference between the actual value and predicted value. Normally, the squared error is used as an evaluation metric.\n",
        "\n",
        "Squared Error = ∑ (y<sub>actual</sub> - y<sub>predicted</sub>)<sup>2</sup>\n",
        "\n",
        "Our aim is to develop a model that minimizes this training error\n",
        "\n",
        "Let's look at an example of linear regression:"
      ],
      "metadata": {
        "id": "-qCB6kWRmZdu"
      }
    },
    {
      "cell_type": "code",
      "source": [
        "from sklearn.linear_model import LinearRegression\n",
        "from sklearn import datasets"
      ],
      "metadata": {
        "id": "L5B6CsJwoz9v"
      },
      "execution_count": 1,
      "outputs": []
    },
    {
      "cell_type": "code",
      "source": [
        "diabetes = datasets.load_diabetes(as_frame=True) # load data"
      ],
      "metadata": {
        "id": "ctkELNdYpKRj"
      },
      "execution_count": 9,
      "outputs": []
    },
    {
      "cell_type": "code",
      "source": [
        "df = diabetes.frame\n",
        "df.head()"
      ],
      "metadata": {
        "colab": {
          "base_uri": "https://localhost:8080/",
          "height": 221
        },
        "id": "CHp_bpftpLHB",
        "outputId": "b86867a8-1f96-4f34-e50b-c6fb7400cd65"
      },
      "execution_count": 11,
      "outputs": [
        {
          "output_type": "execute_result",
          "data": {
            "text/plain": [
              "        age       sex       bmi        bp        s1        s2        s3  \\\n",
              "0  0.038076  0.050680  0.061696  0.021872 -0.044223 -0.034821 -0.043401   \n",
              "1 -0.001882 -0.044642 -0.051474 -0.026328 -0.008449 -0.019163  0.074412   \n",
              "2  0.085299  0.050680  0.044451 -0.005670 -0.045599 -0.034194 -0.032356   \n",
              "3 -0.089063 -0.044642 -0.011595 -0.036656  0.012191  0.024991 -0.036038   \n",
              "4  0.005383 -0.044642 -0.036385  0.021872  0.003935  0.015596  0.008142   \n",
              "\n",
              "         s4        s5        s6  target  \n",
              "0 -0.002592  0.019907 -0.017646   151.0  \n",
              "1 -0.039493 -0.068332 -0.092204    75.0  \n",
              "2 -0.002592  0.002861 -0.025930   141.0  \n",
              "3  0.034309  0.022688 -0.009362   206.0  \n",
              "4 -0.002592 -0.031988 -0.046641   135.0  "
            ],
            "text/html": [
              "\n",
              "  <div id=\"df-838af766-f710-4c4f-b287-c219c2eb51c9\" class=\"colab-df-container\">\n",
              "    <div>\n",
              "<style scoped>\n",
              "    .dataframe tbody tr th:only-of-type {\n",
              "        vertical-align: middle;\n",
              "    }\n",
              "\n",
              "    .dataframe tbody tr th {\n",
              "        vertical-align: top;\n",
              "    }\n",
              "\n",
              "    .dataframe thead th {\n",
              "        text-align: right;\n",
              "    }\n",
              "</style>\n",
              "<table border=\"1\" class=\"dataframe\">\n",
              "  <thead>\n",
              "    <tr style=\"text-align: right;\">\n",
              "      <th></th>\n",
              "      <th>age</th>\n",
              "      <th>sex</th>\n",
              "      <th>bmi</th>\n",
              "      <th>bp</th>\n",
              "      <th>s1</th>\n",
              "      <th>s2</th>\n",
              "      <th>s3</th>\n",
              "      <th>s4</th>\n",
              "      <th>s5</th>\n",
              "      <th>s6</th>\n",
              "      <th>target</th>\n",
              "    </tr>\n",
              "  </thead>\n",
              "  <tbody>\n",
              "    <tr>\n",
              "      <th>0</th>\n",
              "      <td>0.038076</td>\n",
              "      <td>0.050680</td>\n",
              "      <td>0.061696</td>\n",
              "      <td>0.021872</td>\n",
              "      <td>-0.044223</td>\n",
              "      <td>-0.034821</td>\n",
              "      <td>-0.043401</td>\n",
              "      <td>-0.002592</td>\n",
              "      <td>0.019907</td>\n",
              "      <td>-0.017646</td>\n",
              "      <td>151.0</td>\n",
              "    </tr>\n",
              "    <tr>\n",
              "      <th>1</th>\n",
              "      <td>-0.001882</td>\n",
              "      <td>-0.044642</td>\n",
              "      <td>-0.051474</td>\n",
              "      <td>-0.026328</td>\n",
              "      <td>-0.008449</td>\n",
              "      <td>-0.019163</td>\n",
              "      <td>0.074412</td>\n",
              "      <td>-0.039493</td>\n",
              "      <td>-0.068332</td>\n",
              "      <td>-0.092204</td>\n",
              "      <td>75.0</td>\n",
              "    </tr>\n",
              "    <tr>\n",
              "      <th>2</th>\n",
              "      <td>0.085299</td>\n",
              "      <td>0.050680</td>\n",
              "      <td>0.044451</td>\n",
              "      <td>-0.005670</td>\n",
              "      <td>-0.045599</td>\n",
              "      <td>-0.034194</td>\n",
              "      <td>-0.032356</td>\n",
              "      <td>-0.002592</td>\n",
              "      <td>0.002861</td>\n",
              "      <td>-0.025930</td>\n",
              "      <td>141.0</td>\n",
              "    </tr>\n",
              "    <tr>\n",
              "      <th>3</th>\n",
              "      <td>-0.089063</td>\n",
              "      <td>-0.044642</td>\n",
              "      <td>-0.011595</td>\n",
              "      <td>-0.036656</td>\n",
              "      <td>0.012191</td>\n",
              "      <td>0.024991</td>\n",
              "      <td>-0.036038</td>\n",
              "      <td>0.034309</td>\n",
              "      <td>0.022688</td>\n",
              "      <td>-0.009362</td>\n",
              "      <td>206.0</td>\n",
              "    </tr>\n",
              "    <tr>\n",
              "      <th>4</th>\n",
              "      <td>0.005383</td>\n",
              "      <td>-0.044642</td>\n",
              "      <td>-0.036385</td>\n",
              "      <td>0.021872</td>\n",
              "      <td>0.003935</td>\n",
              "      <td>0.015596</td>\n",
              "      <td>0.008142</td>\n",
              "      <td>-0.002592</td>\n",
              "      <td>-0.031988</td>\n",
              "      <td>-0.046641</td>\n",
              "      <td>135.0</td>\n",
              "    </tr>\n",
              "  </tbody>\n",
              "</table>\n",
              "</div>\n",
              "    <div class=\"colab-df-buttons\">\n",
              "\n",
              "  <div class=\"colab-df-container\">\n",
              "    <button class=\"colab-df-convert\" onclick=\"convertToInteractive('df-838af766-f710-4c4f-b287-c219c2eb51c9')\"\n",
              "            title=\"Convert this dataframe to an interactive table.\"\n",
              "            style=\"display:none;\">\n",
              "\n",
              "  <svg xmlns=\"http://www.w3.org/2000/svg\" height=\"24px\" viewBox=\"0 -960 960 960\">\n",
              "    <path d=\"M120-120v-720h720v720H120Zm60-500h600v-160H180v160Zm220 220h160v-160H400v160Zm0 220h160v-160H400v160ZM180-400h160v-160H180v160Zm440 0h160v-160H620v160ZM180-180h160v-160H180v160Zm440 0h160v-160H620v160Z\"/>\n",
              "  </svg>\n",
              "    </button>\n",
              "\n",
              "  <style>\n",
              "    .colab-df-container {\n",
              "      display:flex;\n",
              "      gap: 12px;\n",
              "    }\n",
              "\n",
              "    .colab-df-convert {\n",
              "      background-color: #E8F0FE;\n",
              "      border: none;\n",
              "      border-radius: 50%;\n",
              "      cursor: pointer;\n",
              "      display: none;\n",
              "      fill: #1967D2;\n",
              "      height: 32px;\n",
              "      padding: 0 0 0 0;\n",
              "      width: 32px;\n",
              "    }\n",
              "\n",
              "    .colab-df-convert:hover {\n",
              "      background-color: #E2EBFA;\n",
              "      box-shadow: 0px 1px 2px rgba(60, 64, 67, 0.3), 0px 1px 3px 1px rgba(60, 64, 67, 0.15);\n",
              "      fill: #174EA6;\n",
              "    }\n",
              "\n",
              "    .colab-df-buttons div {\n",
              "      margin-bottom: 4px;\n",
              "    }\n",
              "\n",
              "    [theme=dark] .colab-df-convert {\n",
              "      background-color: #3B4455;\n",
              "      fill: #D2E3FC;\n",
              "    }\n",
              "\n",
              "    [theme=dark] .colab-df-convert:hover {\n",
              "      background-color: #434B5C;\n",
              "      box-shadow: 0px 1px 3px 1px rgba(0, 0, 0, 0.15);\n",
              "      filter: drop-shadow(0px 1px 2px rgba(0, 0, 0, 0.3));\n",
              "      fill: #FFFFFF;\n",
              "    }\n",
              "  </style>\n",
              "\n",
              "    <script>\n",
              "      const buttonEl =\n",
              "        document.querySelector('#df-838af766-f710-4c4f-b287-c219c2eb51c9 button.colab-df-convert');\n",
              "      buttonEl.style.display =\n",
              "        google.colab.kernel.accessAllowed ? 'block' : 'none';\n",
              "\n",
              "      async function convertToInteractive(key) {\n",
              "        const element = document.querySelector('#df-838af766-f710-4c4f-b287-c219c2eb51c9');\n",
              "        const dataTable =\n",
              "          await google.colab.kernel.invokeFunction('convertToInteractive',\n",
              "                                                    [key], {});\n",
              "        if (!dataTable) return;\n",
              "\n",
              "        const docLinkHtml = 'Like what you see? Visit the ' +\n",
              "          '<a target=\"_blank\" href=https://colab.research.google.com/notebooks/data_table.ipynb>data table notebook</a>'\n",
              "          + ' to learn more about interactive tables.';\n",
              "        element.innerHTML = '';\n",
              "        dataTable['output_type'] = 'display_data';\n",
              "        await google.colab.output.renderOutput(dataTable, element);\n",
              "        const docLink = document.createElement('div');\n",
              "        docLink.innerHTML = docLinkHtml;\n",
              "        element.appendChild(docLink);\n",
              "      }\n",
              "    </script>\n",
              "  </div>\n",
              "\n",
              "\n",
              "<div id=\"df-c976bf54-ec56-4807-b087-8f353b6876f6\">\n",
              "  <button class=\"colab-df-quickchart\" onclick=\"quickchart('df-c976bf54-ec56-4807-b087-8f353b6876f6')\"\n",
              "            title=\"Suggest charts\"\n",
              "            style=\"display:none;\">\n",
              "\n",
              "<svg xmlns=\"http://www.w3.org/2000/svg\" height=\"24px\"viewBox=\"0 0 24 24\"\n",
              "     width=\"24px\">\n",
              "    <g>\n",
              "        <path d=\"M19 3H5c-1.1 0-2 .9-2 2v14c0 1.1.9 2 2 2h14c1.1 0 2-.9 2-2V5c0-1.1-.9-2-2-2zM9 17H7v-7h2v7zm4 0h-2V7h2v10zm4 0h-2v-4h2v4z\"/>\n",
              "    </g>\n",
              "</svg>\n",
              "  </button>\n",
              "\n",
              "<style>\n",
              "  .colab-df-quickchart {\n",
              "      --bg-color: #E8F0FE;\n",
              "      --fill-color: #1967D2;\n",
              "      --hover-bg-color: #E2EBFA;\n",
              "      --hover-fill-color: #174EA6;\n",
              "      --disabled-fill-color: #AAA;\n",
              "      --disabled-bg-color: #DDD;\n",
              "  }\n",
              "\n",
              "  [theme=dark] .colab-df-quickchart {\n",
              "      --bg-color: #3B4455;\n",
              "      --fill-color: #D2E3FC;\n",
              "      --hover-bg-color: #434B5C;\n",
              "      --hover-fill-color: #FFFFFF;\n",
              "      --disabled-bg-color: #3B4455;\n",
              "      --disabled-fill-color: #666;\n",
              "  }\n",
              "\n",
              "  .colab-df-quickchart {\n",
              "    background-color: var(--bg-color);\n",
              "    border: none;\n",
              "    border-radius: 50%;\n",
              "    cursor: pointer;\n",
              "    display: none;\n",
              "    fill: var(--fill-color);\n",
              "    height: 32px;\n",
              "    padding: 0;\n",
              "    width: 32px;\n",
              "  }\n",
              "\n",
              "  .colab-df-quickchart:hover {\n",
              "    background-color: var(--hover-bg-color);\n",
              "    box-shadow: 0 1px 2px rgba(60, 64, 67, 0.3), 0 1px 3px 1px rgba(60, 64, 67, 0.15);\n",
              "    fill: var(--button-hover-fill-color);\n",
              "  }\n",
              "\n",
              "  .colab-df-quickchart-complete:disabled,\n",
              "  .colab-df-quickchart-complete:disabled:hover {\n",
              "    background-color: var(--disabled-bg-color);\n",
              "    fill: var(--disabled-fill-color);\n",
              "    box-shadow: none;\n",
              "  }\n",
              "\n",
              "  .colab-df-spinner {\n",
              "    border: 2px solid var(--fill-color);\n",
              "    border-color: transparent;\n",
              "    border-bottom-color: var(--fill-color);\n",
              "    animation:\n",
              "      spin 1s steps(1) infinite;\n",
              "  }\n",
              "\n",
              "  @keyframes spin {\n",
              "    0% {\n",
              "      border-color: transparent;\n",
              "      border-bottom-color: var(--fill-color);\n",
              "      border-left-color: var(--fill-color);\n",
              "    }\n",
              "    20% {\n",
              "      border-color: transparent;\n",
              "      border-left-color: var(--fill-color);\n",
              "      border-top-color: var(--fill-color);\n",
              "    }\n",
              "    30% {\n",
              "      border-color: transparent;\n",
              "      border-left-color: var(--fill-color);\n",
              "      border-top-color: var(--fill-color);\n",
              "      border-right-color: var(--fill-color);\n",
              "    }\n",
              "    40% {\n",
              "      border-color: transparent;\n",
              "      border-right-color: var(--fill-color);\n",
              "      border-top-color: var(--fill-color);\n",
              "    }\n",
              "    60% {\n",
              "      border-color: transparent;\n",
              "      border-right-color: var(--fill-color);\n",
              "    }\n",
              "    80% {\n",
              "      border-color: transparent;\n",
              "      border-right-color: var(--fill-color);\n",
              "      border-bottom-color: var(--fill-color);\n",
              "    }\n",
              "    90% {\n",
              "      border-color: transparent;\n",
              "      border-bottom-color: var(--fill-color);\n",
              "    }\n",
              "  }\n",
              "</style>\n",
              "\n",
              "  <script>\n",
              "    async function quickchart(key) {\n",
              "      const quickchartButtonEl =\n",
              "        document.querySelector('#' + key + ' button');\n",
              "      quickchartButtonEl.disabled = true;  // To prevent multiple clicks.\n",
              "      quickchartButtonEl.classList.add('colab-df-spinner');\n",
              "      try {\n",
              "        const charts = await google.colab.kernel.invokeFunction(\n",
              "            'suggestCharts', [key], {});\n",
              "      } catch (error) {\n",
              "        console.error('Error during call to suggestCharts:', error);\n",
              "      }\n",
              "      quickchartButtonEl.classList.remove('colab-df-spinner');\n",
              "      quickchartButtonEl.classList.add('colab-df-quickchart-complete');\n",
              "    }\n",
              "    (() => {\n",
              "      let quickchartButtonEl =\n",
              "        document.querySelector('#df-c976bf54-ec56-4807-b087-8f353b6876f6 button');\n",
              "      quickchartButtonEl.style.display =\n",
              "        google.colab.kernel.accessAllowed ? 'block' : 'none';\n",
              "    })();\n",
              "  </script>\n",
              "</div>\n",
              "\n",
              "    </div>\n",
              "  </div>\n"
            ],
            "application/vnd.google.colaboratory.intrinsic+json": {
              "type": "dataframe",
              "variable_name": "df",
              "summary": "{\n  \"name\": \"df\",\n  \"rows\": 442,\n  \"fields\": [\n    {\n      \"column\": \"age\",\n      \"properties\": {\n        \"dtype\": \"number\",\n        \"std\": 0.047619047619047644,\n        \"min\": -0.1072256316073538,\n        \"max\": 0.11072667545381144,\n        \"num_unique_values\": 58,\n        \"samples\": [\n          0.038075906433423026,\n          -0.09269547780327612,\n          0.01991321417832592\n        ],\n        \"semantic_type\": \"\",\n        \"description\": \"\"\n      }\n    },\n    {\n      \"column\": \"sex\",\n      \"properties\": {\n        \"dtype\": \"number\",\n        \"std\": 0.047619047619047665,\n        \"min\": -0.044641636506989144,\n        \"max\": 0.05068011873981862,\n        \"num_unique_values\": 2,\n        \"samples\": [\n          -0.044641636506989144,\n          0.05068011873981862\n        ],\n        \"semantic_type\": \"\",\n        \"description\": \"\"\n      }\n    },\n    {\n      \"column\": \"bmi\",\n      \"properties\": {\n        \"dtype\": \"number\",\n        \"std\": 0.047619047619047616,\n        \"min\": -0.09027529589850945,\n        \"max\": 0.17055522598064407,\n        \"num_unique_values\": 163,\n        \"samples\": [\n          0.008883414898524095,\n          -0.05470749746044306\n        ],\n        \"semantic_type\": \"\",\n        \"description\": \"\"\n      }\n    },\n    {\n      \"column\": \"bp\",\n      \"properties\": {\n        \"dtype\": \"number\",\n        \"std\": 0.047619047619047596,\n        \"min\": -0.11239880254408448,\n        \"max\": 0.13204361674121307,\n        \"num_unique_values\": 100,\n        \"samples\": [\n          0.03333707926361473,\n          0.02531523648988596\n        ],\n        \"semantic_type\": \"\",\n        \"description\": \"\"\n      }\n    },\n    {\n      \"column\": \"s1\",\n      \"properties\": {\n        \"dtype\": \"number\",\n        \"std\": 0.04761904761904759,\n        \"min\": -0.12678066991651324,\n        \"max\": 0.15391371315651542,\n        \"num_unique_values\": 141,\n        \"samples\": [\n          0.041085578784023497,\n          0.08374011738825825\n        ],\n        \"semantic_type\": \"\",\n        \"description\": \"\"\n      }\n    },\n    {\n      \"column\": \"s2\",\n      \"properties\": {\n        \"dtype\": \"number\",\n        \"std\": 0.047619047619047644,\n        \"min\": -0.11561306597939897,\n        \"max\": 0.19878798965729408,\n        \"num_unique_values\": 302,\n        \"samples\": [\n          0.07415490186505921,\n          0.07008397186179521\n        ],\n        \"semantic_type\": \"\",\n        \"description\": \"\"\n      }\n    },\n    {\n      \"column\": \"s3\",\n      \"properties\": {\n        \"dtype\": \"number\",\n        \"std\": 0.047619047619047596,\n        \"min\": -0.10230705051741597,\n        \"max\": 0.18117906039727852,\n        \"num_unique_values\": 63,\n        \"samples\": [\n          0.09281975309919192,\n          0.15908923357275687\n        ],\n        \"semantic_type\": \"\",\n        \"description\": \"\"\n      }\n    },\n    {\n      \"column\": \"s4\",\n      \"properties\": {\n        \"dtype\": \"number\",\n        \"std\": 0.047619047619047616,\n        \"min\": -0.0763945037500033,\n        \"max\": 0.18523444326019867,\n        \"num_unique_values\": 66,\n        \"samples\": [\n          0.08670845052151895,\n          -0.024732934523729287\n        ],\n        \"semantic_type\": \"\",\n        \"description\": \"\"\n      }\n    },\n    {\n      \"column\": \"s5\",\n      \"properties\": {\n        \"dtype\": \"number\",\n        \"std\": 0.047619047619047616,\n        \"min\": -0.12609712083330468,\n        \"max\": 0.13359728192191356,\n        \"num_unique_values\": 184,\n        \"samples\": [\n          -0.07213275338232743,\n          -0.021395309255276825\n        ],\n        \"semantic_type\": \"\",\n        \"description\": \"\"\n      }\n    },\n    {\n      \"column\": \"s6\",\n      \"properties\": {\n        \"dtype\": \"number\",\n        \"std\": 0.047619047619047644,\n        \"min\": -0.13776722569000302,\n        \"max\": 0.13561183068907107,\n        \"num_unique_values\": 56,\n        \"samples\": [\n          -0.01764612515980379,\n          -0.09634615654165846\n        ],\n        \"semantic_type\": \"\",\n        \"description\": \"\"\n      }\n    },\n    {\n      \"column\": \"target\",\n      \"properties\": {\n        \"dtype\": \"number\",\n        \"std\": 77.09300453299109,\n        \"min\": 25.0,\n        \"max\": 346.0,\n        \"num_unique_values\": 214,\n        \"samples\": [\n          310.0,\n          140.0\n        ],\n        \"semantic_type\": \"\",\n        \"description\": \"\"\n      }\n    }\n  ]\n}"
            }
          },
          "metadata": {},
          "execution_count": 11
        }
      ]
    },
    {
      "cell_type": "markdown",
      "source": [
        "One of the most important steps is to separate the features from the target attribute. Generally, we call the features as X and the target variable as y"
      ],
      "metadata": {
        "id": "IKK-3VwTpfpd"
      }
    },
    {
      "cell_type": "code",
      "source": [
        "X = df.drop('target', axis=1)\n",
        "y = df['target']"
      ],
      "metadata": {
        "id": "F3l64HdzpcuQ"
      },
      "execution_count": 12,
      "outputs": []
    },
    {
      "cell_type": "markdown",
      "source": [
        "It's important to split the data into 2 parts: training and test"
      ],
      "metadata": {
        "id": "qeNKkCklqXG1"
      }
    },
    {
      "cell_type": "code",
      "source": [
        "from sklearn.model_selection import train_test_split\n",
        "X_train, X_test, y_train, y_test = train_test_split(X, y, test_size=0.2, random_state=0)"
      ],
      "metadata": {
        "id": "zW9PcwB3psyZ"
      },
      "execution_count": 13,
      "outputs": []
    },
    {
      "cell_type": "code",
      "source": [
        "model = LinearRegression()\n",
        "\n",
        "model.fit(X_train, y_train)\n",
        "\n",
        "model.score(X_test, y_test)"
      ],
      "metadata": {
        "colab": {
          "base_uri": "https://localhost:8080/"
        },
        "id": "etVqgD0OrWXn",
        "outputId": "d41c1004-8fac-46dd-df3d-345495eda71c"
      },
      "execution_count": 14,
      "outputs": [
        {
          "output_type": "execute_result",
          "data": {
            "text/plain": [
              "0.3322332173106183"
            ]
          },
          "metadata": {},
          "execution_count": 14
        }
      ]
    },
    {
      "cell_type": "code",
      "source": [
        "model.coef_ #"
      ],
      "metadata": {
        "colab": {
          "base_uri": "https://localhost:8080/"
        },
        "id": "Or9G17Gfrc8L",
        "outputId": "e346dc06-c97d-4f53-ab93-7632e086c8b8"
      },
      "execution_count": 16,
      "outputs": [
        {
          "output_type": "execute_result",
          "data": {
            "text/plain": [
              "array([ -35.55025079, -243.16508959,  562.76234744,  305.46348218,\n",
              "       -662.70290089,  324.20738537,   24.74879489,  170.3249615 ,\n",
              "        731.63743545,   43.0309307 ])"
            ]
          },
          "metadata": {},
          "execution_count": 16
        }
      ]
    },
    {
      "cell_type": "code",
      "source": [
        "model.intercept_"
      ],
      "metadata": {
        "colab": {
          "base_uri": "https://localhost:8080/"
        },
        "id": "owYZRPjsrd4n",
        "outputId": "c1fb579a-b259-41b3-805a-4dd5096130cd"
      },
      "execution_count": 15,
      "outputs": [
        {
          "output_type": "execute_result",
          "data": {
            "text/plain": [
              "152.5380470138517"
            ]
          },
          "metadata": {},
          "execution_count": 15
        }
      ]
    },
    {
      "cell_type": "code",
      "source": [
        "from matplotlib import pyplot as plt\n",
        "import numpy as np\n",
        "\n",
        "y_pred = model.predict(X_test)\n",
        "plt.plot(y_test, y_pred, '.')\n",
        "\n",
        "# plot a line, a perfit predict would all fall on this line\n",
        "x = np.linspace(0, 330, 100)\n",
        "y = x\n",
        "plt.plot(x, y)\n",
        "plt.show()"
      ],
      "metadata": {
        "colab": {
          "base_uri": "https://localhost:8080/",
          "height": 451
        },
        "id": "Z-_34Nn5rilz",
        "outputId": "f342044e-a867-4354-8445-0d0735c54b03"
      },
      "execution_count": 19,
      "outputs": [
        {
          "output_type": "display_data",
          "data": {
            "text/plain": [
              "<Figure size 640x480 with 1 Axes>"
            ],
            "image/png": "[encoded data removed]"
          },
          "metadata": {}
        }
      ]
    },
    {
      "cell_type": "markdown",
      "source": [
        "# Machine Learning Concepts\n",
        "\n",
        "Main idea:\n",
        "- Need to develop a model that not just fits the *training data*, but also performs well on *unseen i.e. test data*\n",
        "- If model performs well on training data and poorly on test data (also called validation data), it's referred to as **overfitting**.\n",
        "\n",
        "![Overfitting_svg.svg.png](data:image/png;base64,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)\n",
        "\n",
        "\n",
        "\n",
        "Training error is shown in blue, validation error in red, both as a function of the number of training cycles. If the validation error increases (positive slope) while the training error steadily decreases (negative slope) then a situation of overfitting may have occurred.\n"
      ],
      "metadata": {
        "id": "lt6mT-izync7"
      }
    },
    {
      "cell_type": "markdown",
      "source": [
        "## What causes over-fitting?\n",
        "\n",
        "- Too many parameters\n",
        "- Overly high model complexity.\n",
        "\n",
        "    For example, if a polynomial model of order 3 can work well, trying to create a 10th order polynomial.\n",
        "\n",
        "- Large number of training iterations.\n",
        "\n",
        "Below is a case where a model of degree 1 would be best. A more complex will give good training results, but will generalize poorly.\n",
        "\n",
        "![Overfitted_Data.png](data:image/png;base64,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)\n"
      ],
      "metadata": {
        "id": "fl4pjMaSMGTp"
      }
    },
    {
      "cell_type": "markdown",
      "source": [
        "## What are some ways to prevent overfitting?\n",
        "\n",
        "One of the ways is to penalize large weights of the model. Weights represent the coefficients for the attributes in the regression model.\n",
        "\n",
        "Suppose there are p features (x1, x2, ..., xp). Each feature will have a weight in the prediction column (w1, w2, ..., wp). We also need to include the bias term w0. So, the model will be:\n",
        "\n",
        "\n",
        "\n",
        "![image.png](data:image/png;base64,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)\n",
        "\n",
        "\n",
        "\n"
      ],
      "metadata": {
        "id": "9xtLpPT97FxM"
      }
    },
    {
      "cell_type": "markdown",
      "source": [],
      "metadata": {
        "id": "wq__M1qpUYMD"
      }
    },
    {
      "cell_type": "markdown",
      "source": [
        "## Ridge Regression\n",
        "\n",
        "Ridge regression seeks to prevent overfitting by imposing a penalty on the squared value of the weights. The new error function is defined as:\n",
        "\n",
        "![image.png](data:image/png;base64,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)\n",
        "\n",
        "α is called the ridge regression coefficient."
      ],
      "metadata": {
        "id": "ZpAQQrqOyYy7"
      }
    },
    {
      "cell_type": "code",
      "source": [
        "import pandas as pd\n",
        "import numpy as np\n",
        "from sklearn import model_selection\n",
        "from sklearn.linear_model import LinearRegression\n",
        "from sklearn.linear_model import Ridge\n",
        "from sklearn.linear_model import Lasso\n",
        "from sklearn.linear_model import ElasticNet\n",
        "from sklearn.neighbors import KNeighborsRegressor\n",
        "from sklearn.tree import DecisionTreeRegressor\n",
        "from sklearn.svm import SVR\n",
        "from sklearn.ensemble import RandomForestRegressor\n",
        "from sklearn.metrics import r2_score\n",
        "from sklearn.model_selection import train_test_split\n",
        "from sklearn.metrics import mean_squared_error\n",
        "from math import sqrt\n",
        "\n",
        "# Details of the dataset: http://www.key2stats.com/data-set/view/859\n",
        "df = pd.read_csv(\"https://an-utd-python.s3.us-west-1.amazonaws.com/unemp.csv\")"
      ],
      "metadata": {
        "id": "iQSNRIAcejU3"
      },
      "execution_count": null,
      "outputs": []
    },
    {
      "cell_type": "code",
      "source": [
        "df"
      ],
      "metadata": {
        "colab": {
          "base_uri": "https://localhost:8080/",
          "height": 447
        },
        "id": "2N3hGXs3es_1",
        "outputId": "d2c32939-7c79-4c62-8a99-e30fa8fc968d"
      },
      "execution_count": null,
      "outputs": [
        {
          "output_type": "execute_result",
          "data": {
            "text/plain": [
              "         pce         pop  psavert  uempmed  unemploy\n",
              "0      506.7  198712.000     12.6      4.5      2944\n",
              "1      509.8  198911.000     12.6      4.7      2945\n",
              "2      515.6  199113.000     11.9      4.6      2958\n",
              "3      512.2  199311.000     12.9      4.9      3143\n",
              "4      517.4  199498.000     12.8      4.7      3066\n",
              "..       ...         ...      ...      ...       ...\n",
              "569  12062.0  319746.157      7.6     12.9      8717\n",
              "570  12046.0  319928.646      7.7     13.2      8903\n",
              "571  12082.4  320074.511      7.9     12.9      8610\n",
              "572  12158.3  320230.786      7.4     12.0      8504\n",
              "573  12193.8  320402.295      7.6     11.5      8526\n",
              "\n",
              "[574 rows x 5 columns]"
            ],
            "text/html": [
              "\n",
              "  <div id=\"df-c835e6af-990a-49a4-9faa-a70918a4efa1\">\n",
              "    <div class=\"colab-df-container\">\n",
              "      <div>\n",
              "<style scoped>\n",
              "    .dataframe tbody tr th:only-of-type {\n",
              "        vertical-align: middle;\n",
              "    }\n",
              "\n",
              "    .dataframe tbody tr th {\n",
              "        vertical-align: top;\n",
              "    }\n",
              "\n",
              "    .dataframe thead th {\n",
              "        text-align: right;\n",
              "    }\n",
              "</style>\n",
              "<table border=\"1\" class=\"dataframe\">\n",
              "  <thead>\n",
              "    <tr style=\"text-align: right;\">\n",
              "      <th></th>\n",
              "      <th>pce</th>\n",
              "      <th>pop</th>\n",
              "      <th>psavert</th>\n",
              "      <th>uempmed</th>\n",
              "      <th>unemploy</th>\n",
              "    </tr>\n",
              "  </thead>\n",
              "  <tbody>\n",
              "    <tr>\n",
              "      <th>0</th>\n",
              "      <td>506.7</td>\n",
              "      <td>198712.000</td>\n",
              "      <td>12.6</td>\n",
              "      <td>4.5</td>\n",
              "      <td>2944</td>\n",
              "    </tr>\n",
              "    <tr>\n",
              "      <th>1</th>\n",
              "      <td>509.8</td>\n",
              "      <td>198911.000</td>\n",
              "      <td>12.6</td>\n",
              "      <td>4.7</td>\n",
              "      <td>2945</td>\n",
              "    </tr>\n",
              "    <tr>\n",
              "      <th>2</th>\n",
              "      <td>515.6</td>\n",
              "      <td>199113.000</td>\n",
              "      <td>11.9</td>\n",
              "      <td>4.6</td>\n",
              "      <td>2958</td>\n",
              "    </tr>\n",
              "    <tr>\n",
              "      <th>3</th>\n",
              "      <td>512.2</td>\n",
              "      <td>199311.000</td>\n",
              "      <td>12.9</td>\n",
              "      <td>4.9</td>\n",
              "      <td>3143</td>\n",
              "    </tr>\n",
              "    <tr>\n",
              "      <th>4</th>\n",
              "      <td>517.4</td>\n",
              "      <td>199498.000</td>\n",
              "      <td>12.8</td>\n",
              "      <td>4.7</td>\n",
              "      <td>3066</td>\n",
              "    </tr>\n",
              "    <tr>\n",
              "      <th>...</th>\n",
              "      <td>...</td>\n",
              "      <td>...</td>\n",
              "      <td>...</td>\n",
              "      <td>...</td>\n",
              "      <td>...</td>\n",
              "    </tr>\n",
              "    <tr>\n",
              "      <th>569</th>\n",
              "      <td>12062.0</td>\n",
              "      <td>319746.157</td>\n",
              "      <td>7.6</td>\n",
              "      <td>12.9</td>\n",
              "      <td>8717</td>\n",
              "    </tr>\n",
              "    <tr>\n",
              "      <th>570</th>\n",
              "      <td>12046.0</td>\n",
              "      <td>319928.646</td>\n",
              "      <td>7.7</td>\n",
              "      <td>13.2</td>\n",
              "      <td>8903</td>\n",
              "    </tr>\n",
              "    <tr>\n",
              "      <th>571</th>\n",
              "      <td>12082.4</td>\n",
              "      <td>320074.511</td>\n",
              "      <td>7.9</td>\n",
              "      <td>12.9</td>\n",
              "      <td>8610</td>\n",
              "    </tr>\n",
              "    <tr>\n",
              "      <th>572</th>\n",
              "      <td>12158.3</td>\n",
              "      <td>320230.786</td>\n",
              "      <td>7.4</td>\n",
              "      <td>12.0</td>\n",
              "      <td>8504</td>\n",
              "    </tr>\n",
              "    <tr>\n",
              "      <th>573</th>\n",
              "      <td>12193.8</td>\n",
              "      <td>320402.295</td>\n",
              "      <td>7.6</td>\n",
              "      <td>11.5</td>\n",
              "      <td>8526</td>\n",
              "    </tr>\n",
              "  </tbody>\n",
              "</table>\n",
              "<p>574 rows × 5 columns</p>\n",
              "</div>\n",
              "      <button class=\"colab-df-convert\" onclick=\"convertToInteractive('df-c835e6af-990a-49a4-9faa-a70918a4efa1')\"\n",
              "              title=\"Convert this dataframe to an interactive table.\"\n",
              "              style=\"display:none;\">\n",
              "        \n",
              "  <svg xmlns=\"http://www.w3.org/2000/svg\" height=\"24px\"viewBox=\"0 0 24 24\"\n",
              "       width=\"24px\">\n",
              "    <path d=\"M0 0h24v24H0V0z\" fill=\"none\"/>\n",
              "    <path d=\"M18.56 5.44l.94 2.06.94-2.06 2.06-.94-2.06-.94-.94-2.06-.94 2.06-2.06.94zm-11 1L8.5 8.5l.94-2.06 2.06-.94-2.06-.94L8.5 2.5l-.94 2.06-2.06.94zm10 10l.94 2.06.94-2.06 2.06-.94-2.06-.94-.94-2.06-.94 2.06-2.06.94z\"/><path d=\"M17.41 7.96l-1.37-1.37c-.4-.4-.92-.59-1.43-.59-.52 0-1.04.2-1.43.59L10.3 9.45l-7.72 7.72c-.78.78-.78 2.05 0 2.83L4 21.41c.39.39.9.59 1.41.59.51 0 1.02-.2 1.41-.59l7.78-7.78 2.81-2.81c.8-.78.8-2.07 0-2.86zM5.41 20L4 18.59l7.72-7.72 1.47 1.35L5.41 20z\"/>\n",
              "  </svg>\n",
              "      </button>\n",
              "      \n",
              "  <style>\n",
              "    .colab-df-container {\n",
              "      display:flex;\n",
              "      flex-wrap:wrap;\n",
              "      gap: 12px;\n",
              "    }\n",
              "\n",
              "    .colab-df-convert {\n",
              "      background-color: #E8F0FE;\n",
              "      border: none;\n",
              "      border-radius: 50%;\n",
              "      cursor: pointer;\n",
              "      display: none;\n",
              "      fill: #1967D2;\n",
              "      height: 32px;\n",
              "      padding: 0 0 0 0;\n",
              "      width: 32px;\n",
              "    }\n",
              "\n",
              "    .colab-df-convert:hover {\n",
              "      background-color: #E2EBFA;\n",
              "      box-shadow: 0px 1px 2px rgba(60, 64, 67, 0.3), 0px 1px 3px 1px rgba(60, 64, 67, 0.15);\n",
              "      fill: #174EA6;\n",
              "    }\n",
              "\n",
              "    [theme=dark] .colab-df-convert {\n",
              "      background-color: #3B4455;\n",
              "      fill: #D2E3FC;\n",
              "    }\n",
              "\n",
              "    [theme=dark] .colab-df-convert:hover {\n",
              "      background-color: #434B5C;\n",
              "      box-shadow: 0px 1px 3px 1px rgba(0, 0, 0, 0.15);\n",
              "      filter: drop-shadow(0px 1px 2px rgba(0, 0, 0, 0.3));\n",
              "      fill: #FFFFFF;\n",
              "    }\n",
              "  </style>\n",
              "\n",
              "      <script>\n",
              "        const buttonEl =\n",
              "          document.querySelector('#df-c835e6af-990a-49a4-9faa-a70918a4efa1 button.colab-df-convert');\n",
              "        buttonEl.style.display =\n",
              "          google.colab.kernel.accessAllowed ? 'block' : 'none';\n",
              "\n",
              "        async function convertToInteractive(key) {\n",
              "          const element = document.querySelector('#df-c835e6af-990a-49a4-9faa-a70918a4efa1');\n",
              "          const dataTable =\n",
              "            await google.colab.kernel.invokeFunction('convertToInteractive',\n",
              "                                                     [key], {});\n",
              "          if (!dataTable) return;\n",
              "\n",
              "          const docLinkHtml = 'Like what you see? Visit the ' +\n",
              "            '<a target=\"_blank\" href=https://colab.research.google.com/notebooks/data_table.ipynb>data table notebook</a>'\n",
              "            + ' to learn more about interactive tables.';\n",
              "          element.innerHTML = '';\n",
              "          dataTable['output_type'] = 'display_data';\n",
              "          await google.colab.output.renderOutput(dataTable, element);\n",
              "          const docLink = document.createElement('div');\n",
              "          docLink.innerHTML = docLinkHtml;\n",
              "          element.appendChild(docLink);\n",
              "        }\n",
              "      </script>\n",
              "    </div>\n",
              "  </div>\n",
              "  "
            ]
          },
          "metadata": {},
          "execution_count": 2
        }
      ]
    },
    {
      "cell_type": "code",
      "source": [
        "print(df.shape)\n",
        "df.describe()"
      ],
      "metadata": {
        "colab": {
          "base_uri": "https://localhost:8080/",
          "height": 340
        },
        "id": "oqHk3t2-exFS",
        "outputId": "536e1265-626e-4472-e327-6d2c5d0e929a"
      },
      "execution_count": null,
      "outputs": [
        {
          "output_type": "stream",
          "name": "stdout",
          "text": [
            "(574, 5)\n"
          ]
        },
        {
          "output_type": "execute_result",
          "data": {
            "text/plain": [
              "                pce            pop     psavert     uempmed      unemploy\n",
              "count    574.000000     574.000000  574.000000  574.000000    574.000000\n",
              "mean    4820.092683  257159.652662    8.567247    8.608711   7771.310105\n",
              "std     3556.803613   36682.398508    2.964179    4.106645   2641.959180\n",
              "min      506.700000  198712.000000    2.200000    4.000000   2685.000000\n",
              "25%     1578.300000  224896.000000    6.400000    6.000000   6284.000000\n",
              "50%     3936.850000  253060.000000    8.400000    7.500000   7494.000000\n",
              "75%     7626.325000  290290.750000   11.100000    9.100000   8685.500000\n",
              "max    12193.800000  320402.295000   17.300000   25.200000  15352.000000"
            ],
            "text/html": [
              "\n",
              "  <div id=\"df-a802a63b-82a2-461c-90b8-02b67a944609\">\n",
              "    <div class=\"colab-df-container\">\n",
              "      <div>\n",
              "<style scoped>\n",
              "    .dataframe tbody tr th:only-of-type {\n",
              "        vertical-align: middle;\n",
              "    }\n",
              "\n",
              "    .dataframe tbody tr th {\n",
              "        vertical-align: top;\n",
              "    }\n",
              "\n",
              "    .dataframe thead th {\n",
              "        text-align: right;\n",
              "    }\n",
              "</style>\n",
              "<table border=\"1\" class=\"dataframe\">\n",
              "  <thead>\n",
              "    <tr style=\"text-align: right;\">\n",
              "      <th></th>\n",
              "      <th>pce</th>\n",
              "      <th>pop</th>\n",
              "      <th>psavert</th>\n",
              "      <th>uempmed</th>\n",
              "      <th>unemploy</th>\n",
              "    </tr>\n",
              "  </thead>\n",
              "  <tbody>\n",
              "    <tr>\n",
              "      <th>count</th>\n",
              "      <td>574.000000</td>\n",
              "      <td>574.000000</td>\n",
              "      <td>574.000000</td>\n",
              "      <td>574.000000</td>\n",
              "      <td>574.000000</td>\n",
              "    </tr>\n",
              "    <tr>\n",
              "      <th>mean</th>\n",
              "      <td>4820.092683</td>\n",
              "      <td>257159.652662</td>\n",
              "      <td>8.567247</td>\n",
              "      <td>8.608711</td>\n",
              "      <td>7771.310105</td>\n",
              "    </tr>\n",
              "    <tr>\n",
              "      <th>std</th>\n",
              "      <td>3556.803613</td>\n",
              "      <td>36682.398508</td>\n",
              "      <td>2.964179</td>\n",
              "      <td>4.106645</td>\n",
              "      <td>2641.959180</td>\n",
              "    </tr>\n",
              "    <tr>\n",
              "      <th>min</th>\n",
              "      <td>506.700000</td>\n",
              "      <td>198712.000000</td>\n",
              "      <td>2.200000</td>\n",
              "      <td>4.000000</td>\n",
              "      <td>2685.000000</td>\n",
              "    </tr>\n",
              "    <tr>\n",
              "      <th>25%</th>\n",
              "      <td>1578.300000</td>\n",
              "      <td>224896.000000</td>\n",
              "      <td>6.400000</td>\n",
              "      <td>6.000000</td>\n",
              "      <td>6284.000000</td>\n",
              "    </tr>\n",
              "    <tr>\n",
              "      <th>50%</th>\n",
              "      <td>3936.850000</td>\n",
              "      <td>253060.000000</td>\n",
              "      <td>8.400000</td>\n",
              "      <td>7.500000</td>\n",
              "      <td>7494.000000</td>\n",
              "    </tr>\n",
              "    <tr>\n",
              "      <th>75%</th>\n",
              "      <td>7626.325000</td>\n",
              "      <td>290290.750000</td>\n",
              "      <td>11.100000</td>\n",
              "      <td>9.100000</td>\n",
              "      <td>8685.500000</td>\n",
              "    </tr>\n",
              "    <tr>\n",
              "      <th>max</th>\n",
              "      <td>12193.800000</td>\n",
              "      <td>320402.295000</td>\n",
              "      <td>17.300000</td>\n",
              "      <td>25.200000</td>\n",
              "      <td>15352.000000</td>\n",
              "    </tr>\n",
              "  </tbody>\n",
              "</table>\n",
              "</div>\n",
              "      <button class=\"colab-df-convert\" onclick=\"convertToInteractive('df-a802a63b-82a2-461c-90b8-02b67a944609')\"\n",
              "              title=\"Convert this dataframe to an interactive table.\"\n",
              "              style=\"display:none;\">\n",
              "        \n",
              "  <svg xmlns=\"http://www.w3.org/2000/svg\" height=\"24px\"viewBox=\"0 0 24 24\"\n",
              "       width=\"24px\">\n",
              "    <path d=\"M0 0h24v24H0V0z\" fill=\"none\"/>\n",
              "    <path d=\"M18.56 5.44l.94 2.06.94-2.06 2.06-.94-2.06-.94-.94-2.06-.94 2.06-2.06.94zm-11 1L8.5 8.5l.94-2.06 2.06-.94-2.06-.94L8.5 2.5l-.94 2.06-2.06.94zm10 10l.94 2.06.94-2.06 2.06-.94-2.06-.94-.94-2.06-.94 2.06-2.06.94z\"/><path d=\"M17.41 7.96l-1.37-1.37c-.4-.4-.92-.59-1.43-.59-.52 0-1.04.2-1.43.59L10.3 9.45l-7.72 7.72c-.78.78-.78 2.05 0 2.83L4 21.41c.39.39.9.59 1.41.59.51 0 1.02-.2 1.41-.59l7.78-7.78 2.81-2.81c.8-.78.8-2.07 0-2.86zM5.41 20L4 18.59l7.72-7.72 1.47 1.35L5.41 20z\"/>\n",
              "  </svg>\n",
              "      </button>\n",
              "      \n",
              "  <style>\n",
              "    .colab-df-container {\n",
              "      display:flex;\n",
              "      flex-wrap:wrap;\n",
              "      gap: 12px;\n",
              "    }\n",
              "\n",
              "    .colab-df-convert {\n",
              "      background-color: #E8F0FE;\n",
              "      border: none;\n",
              "      border-radius: 50%;\n",
              "      cursor: pointer;\n",
              "      display: none;\n",
              "      fill: #1967D2;\n",
              "      height: 32px;\n",
              "      padding: 0 0 0 0;\n",
              "      width: 32px;\n",
              "    }\n",
              "\n",
              "    .colab-df-convert:hover {\n",
              "      background-color: #E2EBFA;\n",
              "      box-shadow: 0px 1px 2px rgba(60, 64, 67, 0.3), 0px 1px 3px 1px rgba(60, 64, 67, 0.15);\n",
              "      fill: #174EA6;\n",
              "    }\n",
              "\n",
              "    [theme=dark] .colab-df-convert {\n",
              "      background-color: #3B4455;\n",
              "      fill: #D2E3FC;\n",
              "    }\n",
              "\n",
              "    [theme=dark] .colab-df-convert:hover {\n",
              "      background-color: #434B5C;\n",
              "      box-shadow: 0px 1px 3px 1px rgba(0, 0, 0, 0.15);\n",
              "      filter: drop-shadow(0px 1px 2px rgba(0, 0, 0, 0.3));\n",
              "      fill: #FFFFFF;\n",
              "    }\n",
              "  </style>\n",
              "\n",
              "      <script>\n",
              "        const buttonEl =\n",
              "          document.querySelector('#df-a802a63b-82a2-461c-90b8-02b67a944609 button.colab-df-convert');\n",
              "        buttonEl.style.display =\n",
              "          google.colab.kernel.accessAllowed ? 'block' : 'none';\n",
              "\n",
              "        async function convertToInteractive(key) {\n",
              "          const element = document.querySelector('#df-a802a63b-82a2-461c-90b8-02b67a944609');\n",
              "          const dataTable =\n",
              "            await google.colab.kernel.invokeFunction('convertToInteractive',\n",
              "                                                     [key], {});\n",
              "          if (!dataTable) return;\n",
              "\n",
              "          const docLinkHtml = 'Like what you see? Visit the ' +\n",
              "            '<a target=\"_blank\" href=https://colab.research.google.com/notebooks/data_table.ipynb>data table notebook</a>'\n",
              "            + ' to learn more about interactive tables.';\n",
              "          element.innerHTML = '';\n",
              "          dataTable['output_type'] = 'display_data';\n",
              "          await google.colab.output.renderOutput(dataTable, element);\n",
              "          const docLink = document.createElement('div');\n",
              "          docLink.innerHTML = docLinkHtml;\n",
              "          element.appendChild(docLink);\n",
              "        }\n",
              "      </script>\n",
              "    </div>\n",
              "  </div>\n",
              "  "
            ]
          },
          "metadata": {},
          "execution_count": 3
        }
      ]
    },
    {
      "cell_type": "code",
      "source": [
        "target_column = ['unemploy']\n",
        "predictors = list(set(list(df.columns))-set(target_column))\n",
        "df[predictors] = df[predictors]/df[predictors].max()\n",
        "df.describe()"
      ],
      "metadata": {
        "colab": {
          "base_uri": "https://localhost:8080/",
          "height": 323
        },
        "id": "oRkJglR9e0vL",
        "outputId": "74a1125b-38e8-4e4b-fcda-23da9264ee16"
      },
      "execution_count": null,
      "outputs": [
        {
          "output_type": "execute_result",
          "data": {
            "text/plain": [
              "              pce         pop     psavert     uempmed      unemploy\n",
              "count  574.000000  574.000000  574.000000  574.000000    574.000000\n",
              "mean     0.395290    0.802615    0.495217    0.341616   7771.310105\n",
              "std      0.291690    0.114489    0.171340    0.162962   2641.959180\n",
              "min      0.041554    0.620195    0.127168    0.158730   2685.000000\n",
              "25%      0.129435    0.701918    0.369942    0.238095   6284.000000\n",
              "50%      0.322857    0.789820    0.485549    0.297619   7494.000000\n",
              "75%      0.625426    0.906020    0.641618    0.361111   8685.500000\n",
              "max      1.000000    1.000000    1.000000    1.000000  15352.000000"
            ],
            "text/html": [
              "\n",
              "  <div id=\"df-034c432c-cda1-4f16-985e-ffc4e7854267\">\n",
              "    <div class=\"colab-df-container\">\n",
              "      <div>\n",
              "<style scoped>\n",
              "    .dataframe tbody tr th:only-of-type {\n",
              "        vertical-align: middle;\n",
              "    }\n",
              "\n",
              "    .dataframe tbody tr th {\n",
              "        vertical-align: top;\n",
              "    }\n",
              "\n",
              "    .dataframe thead th {\n",
              "        text-align: right;\n",
              "    }\n",
              "</style>\n",
              "<table border=\"1\" class=\"dataframe\">\n",
              "  <thead>\n",
              "    <tr style=\"text-align: right;\">\n",
              "      <th></th>\n",
              "      <th>pce</th>\n",
              "      <th>pop</th>\n",
              "      <th>psavert</th>\n",
              "      <th>uempmed</th>\n",
              "      <th>unemploy</th>\n",
              "    </tr>\n",
              "  </thead>\n",
              "  <tbody>\n",
              "    <tr>\n",
              "      <th>count</th>\n",
              "      <td>574.000000</td>\n",
              "      <td>574.000000</td>\n",
              "      <td>574.000000</td>\n",
              "      <td>574.000000</td>\n",
              "      <td>574.000000</td>\n",
              "    </tr>\n",
              "    <tr>\n",
              "      <th>mean</th>\n",
              "      <td>0.395290</td>\n",
              "      <td>0.802615</td>\n",
              "      <td>0.495217</td>\n",
              "      <td>0.341616</td>\n",
              "      <td>7771.310105</td>\n",
              "    </tr>\n",
              "    <tr>\n",
              "      <th>std</th>\n",
              "      <td>0.291690</td>\n",
              "      <td>0.114489</td>\n",
              "      <td>0.171340</td>\n",
              "      <td>0.162962</td>\n",
              "      <td>2641.959180</td>\n",
              "    </tr>\n",
              "    <tr>\n",
              "      <th>min</th>\n",
              "      <td>0.041554</td>\n",
              "      <td>0.620195</td>\n",
              "      <td>0.127168</td>\n",
              "      <td>0.158730</td>\n",
              "      <td>2685.000000</td>\n",
              "    </tr>\n",
              "    <tr>\n",
              "      <th>25%</th>\n",
              "      <td>0.129435</td>\n",
              "      <td>0.701918</td>\n",
              "      <td>0.369942</td>\n",
              "      <td>0.238095</td>\n",
              "      <td>6284.000000</td>\n",
              "    </tr>\n",
              "    <tr>\n",
              "      <th>50%</th>\n",
              "      <td>0.322857</td>\n",
              "      <td>0.789820</td>\n",
              "      <td>0.485549</td>\n",
              "      <td>0.297619</td>\n",
              "      <td>7494.000000</td>\n",
              "    </tr>\n",
              "    <tr>\n",
              "      <th>75%</th>\n",
              "      <td>0.625426</td>\n",
              "      <td>0.906020</td>\n",
              "      <td>0.641618</td>\n",
              "      <td>0.361111</td>\n",
              "      <td>8685.500000</td>\n",
              "    </tr>\n",
              "    <tr>\n",
              "      <th>max</th>\n",
              "      <td>1.000000</td>\n",
              "      <td>1.000000</td>\n",
              "      <td>1.000000</td>\n",
              "      <td>1.000000</td>\n",
              "      <td>15352.000000</td>\n",
              "    </tr>\n",
              "  </tbody>\n",
              "</table>\n",
              "</div>\n",
              "      <button class=\"colab-df-convert\" onclick=\"convertToInteractive('df-034c432c-cda1-4f16-985e-ffc4e7854267')\"\n",
              "              title=\"Convert this dataframe to an interactive table.\"\n",
              "              style=\"display:none;\">\n",
              "        \n",
              "  <svg xmlns=\"http://www.w3.org/2000/svg\" height=\"24px\"viewBox=\"0 0 24 24\"\n",
              "       width=\"24px\">\n",
              "    <path d=\"M0 0h24v24H0V0z\" fill=\"none\"/>\n",
              "    <path d=\"M18.56 5.44l.94 2.06.94-2.06 2.06-.94-2.06-.94-.94-2.06-.94 2.06-2.06.94zm-11 1L8.5 8.5l.94-2.06 2.06-.94-2.06-.94L8.5 2.5l-.94 2.06-2.06.94zm10 10l.94 2.06.94-2.06 2.06-.94-2.06-.94-.94-2.06-.94 2.06-2.06.94z\"/><path d=\"M17.41 7.96l-1.37-1.37c-.4-.4-.92-.59-1.43-.59-.52 0-1.04.2-1.43.59L10.3 9.45l-7.72 7.72c-.78.78-.78 2.05 0 2.83L4 21.41c.39.39.9.59 1.41.59.51 0 1.02-.2 1.41-.59l7.78-7.78 2.81-2.81c.8-.78.8-2.07 0-2.86zM5.41 20L4 18.59l7.72-7.72 1.47 1.35L5.41 20z\"/>\n",
              "  </svg>\n",
              "      </button>\n",
              "      \n",
              "  <style>\n",
              "    .colab-df-container {\n",
              "      display:flex;\n",
              "      flex-wrap:wrap;\n",
              "      gap: 12px;\n",
              "    }\n",
              "\n",
              "    .colab-df-convert {\n",
              "      background-color: #E8F0FE;\n",
              "      border: none;\n",
              "      border-radius: 50%;\n",
              "      cursor: pointer;\n",
              "      display: none;\n",
              "      fill: #1967D2;\n",
              "      height: 32px;\n",
              "      padding: 0 0 0 0;\n",
              "      width: 32px;\n",
              "    }\n",
              "\n",
              "    .colab-df-convert:hover {\n",
              "      background-color: #E2EBFA;\n",
              "      box-shadow: 0px 1px 2px rgba(60, 64, 67, 0.3), 0px 1px 3px 1px rgba(60, 64, 67, 0.15);\n",
              "      fill: #174EA6;\n",
              "    }\n",
              "\n",
              "    [theme=dark] .colab-df-convert {\n",
              "      background-color: #3B4455;\n",
              "      fill: #D2E3FC;\n",
              "    }\n",
              "\n",
              "    [theme=dark] .colab-df-convert:hover {\n",
              "      background-color: #434B5C;\n",
              "      box-shadow: 0px 1px 3px 1px rgba(0, 0, 0, 0.15);\n",
              "      filter: drop-shadow(0px 1px 2px rgba(0, 0, 0, 0.3));\n",
              "      fill: #FFFFFF;\n",
              "    }\n",
              "  </style>\n",
              "\n",
              "      <script>\n",
              "        const buttonEl =\n",
              "          document.querySelector('#df-034c432c-cda1-4f16-985e-ffc4e7854267 button.colab-df-convert');\n",
              "        buttonEl.style.display =\n",
              "          google.colab.kernel.accessAllowed ? 'block' : 'none';\n",
              "\n",
              "        async function convertToInteractive(key) {\n",
              "          const element = document.querySelector('#df-034c432c-cda1-4f16-985e-ffc4e7854267');\n",
              "          const dataTable =\n",
              "            await google.colab.kernel.invokeFunction('convertToInteractive',\n",
              "                                                     [key], {});\n",
              "          if (!dataTable) return;\n",
              "\n",
              "          const docLinkHtml = 'Like what you see? Visit the ' +\n",
              "            '<a target=\"_blank\" href=https://colab.research.google.com/notebooks/data_table.ipynb>data table notebook</a>'\n",
              "            + ' to learn more about interactive tables.';\n",
              "          element.innerHTML = '';\n",
              "          dataTable['output_type'] = 'display_data';\n",
              "          await google.colab.output.renderOutput(dataTable, element);\n",
              "          const docLink = document.createElement('div');\n",
              "          docLink.innerHTML = docLinkHtml;\n",
              "          element.appendChild(docLink);\n",
              "        }\n",
              "      </script>\n",
              "    </div>\n",
              "  </div>\n",
              "  "
            ]
          },
          "metadata": {},
          "execution_count": 4
        }
      ]
    },
    {
      "cell_type": "code",
      "source": [
        "X = df[predictors].values\n",
        "y = df[target_column].values"
      ],
      "metadata": {
        "id": "rZ_sqLQve8wM"
      },
      "execution_count": null,
      "outputs": []
    },
    {
      "cell_type": "code",
      "source": [
        "X_train, X_test, y_train, y_test = train_test_split(X, y, test_size=0.30, random_state=40)\n",
        "print(X_train.shape); print(X_test.shape)"
      ],
      "metadata": {
        "colab": {
          "base_uri": "https://localhost:8080/"
        },
        "id": "RWFx1DVHe-pR",
        "outputId": "96679caf-7f79-4f73-91bf-d78182a1f9aa"
      },
      "execution_count": null,
      "outputs": [
        {
          "output_type": "stream",
          "name": "stdout",
          "text": [
            "(401, 4)\n",
            "(173, 4)\n"
          ]
        }
      ]
    },
    {
      "cell_type": "code",
      "source": [
        "lr = LinearRegression()\n",
        "lr.fit(X_train, y_train)"
      ],
      "metadata": {
        "colab": {
          "base_uri": "https://localhost:8080/"
        },
        "id": "FgytJC-LfBBm",
        "outputId": "b018729b-7808-4353-edd3-f8583ba8d2d9"
      },
      "execution_count": null,
      "outputs": [
        {
          "output_type": "execute_result",
          "data": {
            "text/plain": [
              "LinearRegression()"
            ]
          },
          "metadata": {},
          "execution_count": 7
        }
      ]
    },
    {
      "cell_type": "code",
      "source": [
        "pred_train_lr= lr.predict(X_train)\n",
        "print(np.sqrt(mean_squared_error(y_train,pred_train_lr)))\n",
        "print(r2_score(y_train, pred_train_lr))\n",
        "pred_test_lr= lr.predict(X_test)\n",
        "print(np.sqrt(mean_squared_error(y_test,pred_test_lr)))\n",
        "print(r2_score(y_test, pred_test_lr))"
      ],
      "metadata": {
        "colab": {
          "base_uri": "https://localhost:8080/"
        },
        "id": "5Rv9w_3KfC2A",
        "outputId": "171c0881-198d-47fb-aaea-169e2508486e"
      },
      "execution_count": null,
      "outputs": [
        {
          "output_type": "stream",
          "name": "stdout",
          "text": [
            "986.4203778792607\n",
            "0.8643441807823632\n",
            "1044.7751718256543\n",
            "0.8316156967087425\n"
          ]
        }
      ]
    },
    {
      "cell_type": "code",
      "source": [
        "rr = Ridge(alpha=0.01)\n",
        "rr.fit(X_train, y_train)\n",
        "pred_train_rr= rr.predict(X_train)\n",
        "print(np.sqrt(mean_squared_error(y_train,pred_train_rr)))\n",
        "print(r2_score(y_train, pred_train_rr))\n",
        "\n",
        "pred_test_rr= rr.predict(X_test)\n",
        "print(np.sqrt(mean_squared_error(y_test,pred_test_rr)))\n",
        "print(r2_score(y_test, pred_test_rr))"
      ],
      "metadata": {
        "colab": {
          "base_uri": "https://localhost:8080/"
        },
        "id": "-zk_rzxDfGkj",
        "outputId": "d2f76b80-4ab2-4095-8911-17060c10047b"
      },
      "execution_count": null,
      "outputs": [
        {
          "output_type": "stream",
          "name": "stdout",
          "text": [
            "990.806487687989\n",
            "0.8631351138028005\n",
            "1040.3512413393087\n",
            "0.8330386695177572\n"
          ]
        }
      ]
    },
    {
      "cell_type": "markdown",
      "source": [
        "## Logistic Regression\n",
        "\n",
        "While linear regression seeks to predict the value of a continuous variable, logistic regression is a classification technique used to predict the *class* of the data.\n",
        "\n",
        "Logistic Regression starts with the same model as linear regression\n",
        "\n",
        "\n",
        "![image.png](data:image/png;base64,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)\n",
        "\n",
        "and then transforms it using logistic (also known as sigmoid) function.\n",
        "\n",
        "\n",
        "![image.png](data:image/png;base64,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)\n",
        "\n"
      ],
      "metadata": {
        "id": "JVQiCOm6QftB"
      }
    },
    {
      "cell_type": "markdown",
      "source": [
        "Comparison between linear and logistic regression:\n",
        "\n",
        "![image.png](data:image/png;base64,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)"
      ],
      "metadata": {
        "id": "DZgRC6WTf-5Z"
      }
    },
    {
      "cell_type": "code",
      "source": [
        "\n",
        "\n",
        "col_names = ['pregnant', 'glucose', 'bp', 'skin', 'insulin', 'bmi', 'pedigree', 'age', 'label']\n",
        "# load dataset\n",
        "pima = pd.read_csv(\"https://an-utd-python.s3.us-west-1.amazonaws.com/pima-indians-diabetes.csv\", header=None, names=col_names)"
      ],
      "metadata": {
        "id": "xiF7F8TjhGbQ"
      },
      "execution_count": null,
      "outputs": []
    },
    {
      "cell_type": "code",
      "source": [
        "pima.head()"
      ],
      "metadata": {
        "colab": {
          "base_uri": "https://localhost:8080/",
          "height": 228
        },
        "id": "SDxrlNyHhXtw",
        "outputId": "02edbbad-5f80-4e27-a945-4ad812341227"
      },
      "execution_count": null,
      "outputs": [
        {
          "output_type": "execute_result",
          "data": {
            "text/plain": [
              "   pregnant  glucose  bp  skin  insulin   bmi  pedigree  age  label\n",
              "0         6      148  72    35        0  33.6     0.627   50      1\n",
              "1         1       85  66    29        0  26.6     0.351   31      0\n",
              "2         8      183  64     0        0  23.3     0.672   32      1\n",
              "3         1       89  66    23       94  28.1     0.167   21      0\n",
              "4         0      137  40    35      168  43.1     2.288   33      1"
            ],
            "text/html": [
              "\n",
              "  <div id=\"df-c9565f3b-bfbf-4673-9739-812b34b1e0fb\">\n",
              "    <div class=\"colab-df-container\">\n",
              "      <div>\n",
              "<style scoped>\n",
              "    .dataframe tbody tr th:only-of-type {\n",
              "        vertical-align: middle;\n",
              "    }\n",
              "\n",
              "    .dataframe tbody tr th {\n",
              "        vertical-align: top;\n",
              "    }\n",
              "\n",
              "    .dataframe thead th {\n",
              "        text-align: right;\n",
              "    }\n",
              "</style>\n",
              "<table border=\"1\" class=\"dataframe\">\n",
              "  <thead>\n",
              "    <tr style=\"text-align: right;\">\n",
              "      <th></th>\n",
              "      <th>pregnant</th>\n",
              "      <th>glucose</th>\n",
              "      <th>bp</th>\n",
              "      <th>skin</th>\n",
              "      <th>insulin</th>\n",
              "      <th>bmi</th>\n",
              "      <th>pedigree</th>\n",
              "      <th>age</th>\n",
              "      <th>label</th>\n",
              "    </tr>\n",
              "  </thead>\n",
              "  <tbody>\n",
              "    <tr>\n",
              "      <th>0</th>\n",
              "      <td>6</td>\n",
              "      <td>148</td>\n",
              "      <td>72</td>\n",
              "      <td>35</td>\n",
              "      <td>0</td>\n",
              "      <td>33.6</td>\n",
              "      <td>0.627</td>\n",
              "      <td>50</td>\n",
              "      <td>1</td>\n",
              "    </tr>\n",
              "    <tr>\n",
              "      <th>1</th>\n",
              "      <td>1</td>\n",
              "      <td>85</td>\n",
              "      <td>66</td>\n",
              "      <td>29</td>\n",
              "      <td>0</td>\n",
              "      <td>26.6</td>\n",
              "      <td>0.351</td>\n",
              "      <td>31</td>\n",
              "      <td>0</td>\n",
              "    </tr>\n",
              "    <tr>\n",
              "      <th>2</th>\n",
              "      <td>8</td>\n",
              "      <td>183</td>\n",
              "      <td>64</td>\n",
              "      <td>0</td>\n",
              "      <td>0</td>\n",
              "      <td>23.3</td>\n",
              "      <td>0.672</td>\n",
              "      <td>32</td>\n",
              "      <td>1</td>\n",
              "    </tr>\n",
              "    <tr>\n",
              "      <th>3</th>\n",
              "      <td>1</td>\n",
              "      <td>89</td>\n",
              "      <td>66</td>\n",
              "      <td>23</td>\n",
              "      <td>94</td>\n",
              "      <td>28.1</td>\n",
              "      <td>0.167</td>\n",
              "      <td>21</td>\n",
              "      <td>0</td>\n",
              "    </tr>\n",
              "    <tr>\n",
              "      <th>4</th>\n",
              "      <td>0</td>\n",
              "      <td>137</td>\n",
              "      <td>40</td>\n",
              "      <td>35</td>\n",
              "      <td>168</td>\n",
              "      <td>43.1</td>\n",
              "      <td>2.288</td>\n",
              "      <td>33</td>\n",
              "      <td>1</td>\n",
              "    </tr>\n",
              "  </tbody>\n",
              "</table>\n",
              "</div>\n",
              "      <button class=\"colab-df-convert\" onclick=\"convertToInteractive('df-c9565f3b-bfbf-4673-9739-812b34b1e0fb')\"\n",
              "              title=\"Convert this dataframe to an interactive table.\"\n",
              "              style=\"display:none;\">\n",
              "        \n",
              "  <svg xmlns=\"http://www.w3.org/2000/svg\" height=\"24px\"viewBox=\"0 0 24 24\"\n",
              "       width=\"24px\">\n",
              "    <path d=\"M0 0h24v24H0V0z\" fill=\"none\"/>\n",
              "    <path d=\"M18.56 5.44l.94 2.06.94-2.06 2.06-.94-2.06-.94-.94-2.06-.94 2.06-2.06.94zm-11 1L8.5 8.5l.94-2.06 2.06-.94-2.06-.94L8.5 2.5l-.94 2.06-2.06.94zm10 10l.94 2.06.94-2.06 2.06-.94-2.06-.94-.94-2.06-.94 2.06-2.06.94z\"/><path d=\"M17.41 7.96l-1.37-1.37c-.4-.4-.92-.59-1.43-.59-.52 0-1.04.2-1.43.59L10.3 9.45l-7.72 7.72c-.78.78-.78 2.05 0 2.83L4 21.41c.39.39.9.59 1.41.59.51 0 1.02-.2 1.41-.59l7.78-7.78 2.81-2.81c.8-.78.8-2.07 0-2.86zM5.41 20L4 18.59l7.72-7.72 1.47 1.35L5.41 20z\"/>\n",
              "  </svg>\n",
              "      </button>\n",
              "      \n",
              "  <style>\n",
              "    .colab-df-container {\n",
              "      display:flex;\n",
              "      flex-wrap:wrap;\n",
              "      gap: 12px;\n",
              "    }\n",
              "\n",
              "    .colab-df-convert {\n",
              "      background-color: #E8F0FE;\n",
              "      border: none;\n",
              "      border-radius: 50%;\n",
              "      cursor: pointer;\n",
              "      display: none;\n",
              "      fill: #1967D2;\n",
              "      height: 32px;\n",
              "      padding: 0 0 0 0;\n",
              "      width: 32px;\n",
              "    }\n",
              "\n",
              "    .colab-df-convert:hover {\n",
              "      background-color: #E2EBFA;\n",
              "      box-shadow: 0px 1px 2px rgba(60, 64, 67, 0.3), 0px 1px 3px 1px rgba(60, 64, 67, 0.15);\n",
              "      fill: #174EA6;\n",
              "    }\n",
              "\n",
              "    [theme=dark] .colab-df-convert {\n",
              "      background-color: #3B4455;\n",
              "      fill: #D2E3FC;\n",
              "    }\n",
              "\n",
              "    [theme=dark] .colab-df-convert:hover {\n",
              "      background-color: #434B5C;\n",
              "      box-shadow: 0px 1px 3px 1px rgba(0, 0, 0, 0.15);\n",
              "      filter: drop-shadow(0px 1px 2px rgba(0, 0, 0, 0.3));\n",
              "      fill: #FFFFFF;\n",
              "    }\n",
              "  </style>\n",
              "\n",
              "      <script>\n",
              "        const buttonEl =\n",
              "          document.querySelector('#df-c9565f3b-bfbf-4673-9739-812b34b1e0fb button.colab-df-convert');\n",
              "        buttonEl.style.display =\n",
              "          google.colab.kernel.accessAllowed ? 'block' : 'none';\n",
              "\n",
              "        async function convertToInteractive(key) {\n",
              "          const element = document.querySelector('#df-c9565f3b-bfbf-4673-9739-812b34b1e0fb');\n",
              "          const dataTable =\n",
              "            await google.colab.kernel.invokeFunction('convertToInteractive',\n",
              "                                                     [key], {});\n",
              "          if (!dataTable) return;\n",
              "\n",
              "          const docLinkHtml = 'Like what you see? Visit the ' +\n",
              "            '<a target=\"_blank\" href=https://colab.research.google.com/notebooks/data_table.ipynb>data table notebook</a>'\n",
              "            + ' to learn more about interactive tables.';\n",
              "          element.innerHTML = '';\n",
              "          dataTable['output_type'] = 'display_data';\n",
              "          await google.colab.output.renderOutput(dataTable, element);\n",
              "          const docLink = document.createElement('div');\n",
              "          docLink.innerHTML = docLinkHtml;\n",
              "          element.appendChild(docLink);\n",
              "        }\n",
              "      </script>\n",
              "    </div>\n",
              "  </div>\n",
              "  "
            ]
          },
          "metadata": {},
          "execution_count": 11
        }
      ]
    },
    {
      "cell_type": "code",
      "source": [
        "#split dataset in features and target variable\n",
        "feature_cols = ['pregnant', 'insulin', 'bmi', 'age','glucose','bp','pedigree']\n",
        "X = pima[feature_cols] # Features\n",
        "y = pima.label # Target variable"
      ],
      "metadata": {
        "id": "p6iBJSWph6UX"
      },
      "execution_count": null,
      "outputs": []
    },
    {
      "cell_type": "code",
      "source": [
        "# split X and y into training and testing sets\n",
        "from sklearn.model_selection import train_test_split\n",
        "\n",
        "X_train, X_test, y_train, y_test = train_test_split(X, y, test_size=0.25, random_state=16)"
      ],
      "metadata": {
        "id": "_TaSxcT5h-iV"
      },
      "execution_count": null,
      "outputs": []
    },
    {
      "cell_type": "code",
      "source": [
        "# import the class\n",
        "from sklearn.linear_model import LogisticRegression\n",
        "\n",
        "# instantiate the model (using the default parameters)\n",
        "logreg = LogisticRegression(random_state=16, penalty=\"l2\", max_iter=1000)\n",
        "\n",
        "# fit the model with data\n",
        "logreg.fit(X_train, y_train)\n",
        "\n",
        "y_pred = logreg.predict(X_test)"
      ],
      "metadata": {
        "id": "7MbImi0viCcq"
      },
      "execution_count": null,
      "outputs": []
    },
    {
      "cell_type": "code",
      "source": [
        "# import the metrics class\n",
        "from sklearn import metrics\n",
        "\n",
        "cnf_matrix = metrics.confusion_matrix(y_test, y_pred)\n",
        "cnf_matrix"
      ],
      "metadata": {
        "colab": {
          "base_uri": "https://localhost:8080/"
        },
        "id": "gNvI98DEiIAC",
        "outputId": "656dda5d-bb07-48b2-f079-e25357835c65"
      },
      "execution_count": null,
      "outputs": [
        {
          "output_type": "execute_result",
          "data": {
            "text/plain": [
              "array([[115,  10],\n",
              "       [ 25,  42]])"
            ]
          },
          "metadata": {},
          "execution_count": 16
        }
      ]
    },
    {
      "cell_type": "code",
      "source": [
        "# import required modules\n",
        "import numpy as np\n",
        "import matplotlib.pyplot as plt\n",
        "import seaborn as sns\n",
        "\n",
        "class_names=[0,1] # name  of classes\n",
        "fig, ax = plt.subplots()\n",
        "tick_marks = np.arange(len(class_names))\n",
        "plt.xticks(tick_marks, class_names)\n",
        "plt.yticks(tick_marks, class_names)\n",
        "# create heatmap\n",
        "sns.heatmap(pd.DataFrame(cnf_matrix), annot=True, cmap=\"YlGnBu\" ,fmt='g')\n",
        "ax.xaxis.set_label_position(\"top\")\n",
        "plt.tight_layout()\n",
        "plt.title('Confusion matrix', y=1.1)\n",
        "plt.ylabel('Actual label')\n",
        "plt.xlabel('Predicted label')\n",
        "\n"
      ],
      "metadata": {
        "colab": {
          "base_uri": "https://localhost:8080/",
          "height": 363
        },
        "id": "iRXILBUaiMUG",
        "outputId": "393b2be4-098c-48a3-eb2f-9a542aea5d05"
      },
      "execution_count": null,
      "outputs": [
        {
          "output_type": "execute_result",
          "data": {
            "text/plain": [
              "Text(0.5, 257.44, 'Predicted label')"
            ]
          },
          "metadata": {},
          "execution_count": 17
        },
        {
          "output_type": "display_data",
          "data": {
            "text/plain": [
              "<Figure size 432x288 with 2 Axes>"
            ],
            "image/png": "[encoded data removed]"
          },
          "metadata": {
            "needs_background": "light"
          }
        }
      ]
    },
    {
      "cell_type": "code",
      "source": [
        "from sklearn.metrics import classification_report\n",
        "target_names = ['without diabetes', 'with diabetes']\n",
        "print(classification_report(y_test, y_pred, target_names=target_names))"
      ],
      "metadata": {
        "colab": {
          "base_uri": "https://localhost:8080/"
        },
        "id": "hGsTH6mCiY5q",
        "outputId": "2914cf77-1fd8-4107-fe21-6df3142fa6e5"
      },
      "execution_count": null,
      "outputs": [
        {
          "output_type": "stream",
          "name": "stdout",
          "text": [
            "                  precision    recall  f1-score   support\n",
            "\n",
            "without diabetes       0.82      0.92      0.87       125\n",
            "   with diabetes       0.81      0.63      0.71        67\n",
            "\n",
            "        accuracy                           0.82       192\n",
            "       macro avg       0.81      0.77      0.79       192\n",
            "    weighted avg       0.82      0.82      0.81       192\n",
            "\n"
          ]
        }
      ]
    },
    {
      "cell_type": "code",
      "source": [
        "y_pred_proba = logreg.predict_proba(X_test)[::,1]\n",
        "fpr, tpr, _ = metrics.roc_curve(y_test,  y_pred_proba)\n",
        "auc = metrics.roc_auc_score(y_test, y_pred_proba)\n",
        "plt.plot(fpr,tpr,label=\"data 1, auc=\"+str(auc))\n",
        "plt.legend(loc=4)\n",
        "plt.show()"
      ],
      "metadata": {
        "colab": {
          "base_uri": "https://localhost:8080/",
          "height": 285
        },
        "id": "PZJjfpPgid04",
        "outputId": "b2582dcd-1099-497d-a9e6-4160471c8755"
      },
      "execution_count": null,
      "outputs": [
        {
          "output_type": "display_data",
          "data": {
            "text/plain": [
              "<Figure size 432x288 with 1 Axes>"
            ],
            "image/png": "[encoded data removed]"
          },
          "metadata": {
            "needs_background": "light"
          }
        }
      ]
    },
    {
      "cell_type": "markdown",
      "source": [],
      "metadata": {
        "id": "DmrPjbpEWtlv"
      }
    }
  ]
}